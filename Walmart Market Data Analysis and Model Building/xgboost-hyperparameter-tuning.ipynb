{
 "cells": [
  {
   "cell_type": "markdown",
   "id": "f9dac28f",
   "metadata": {
    "papermill": {
     "duration": 0.024002,
     "end_time": "2022-11-18T18:42:29.862765",
     "exception": false,
     "start_time": "2022-11-18T18:42:29.838763",
     "status": "completed"
    },
    "tags": []
   },
   "source": [
    "### <div style=\"text-align: left; background-color:#CFD9F1 ; font-family: Trebuchet MS; color: #0A3399; padding: 15px; line-height:1;border-radius:1px; margin-bottom: 0em; text-align: center; font-size: 25px\"> Xgboost Hyperparameter Tuning </div>"
   ]
  },
  {
   "cell_type": "code",
   "execution_count": 1,
   "id": "1bfa1712",
   "metadata": {
    "execution": {
     "iopub.execute_input": "2022-11-18T18:42:29.915844Z",
     "iopub.status.busy": "2022-11-18T18:42:29.915106Z",
     "iopub.status.idle": "2022-11-18T18:42:32.702623Z",
     "shell.execute_reply": "2022-11-18T18:42:32.701669Z"
    },
    "papermill": {
     "duration": 2.81504,
     "end_time": "2022-11-18T18:42:32.705346",
     "exception": false,
     "start_time": "2022-11-18T18:42:29.890306",
     "status": "completed"
    },
    "tags": []
   },
   "outputs": [],
   "source": [
    "#1.0.0 Libraries for data frame\n",
    "import pandas as pd\n",
    "import numpy as np\n",
    "\n",
    "#1.0.1 Calling libraries for train and test data split\n",
    "from sklearn.model_selection import train_test_split\n",
    "\n",
    "#1.0.2 calling libraries for performance matrix\n",
    "from sklearn.metrics import mean_squared_error,f1_score, r2_score\n",
    "from sklearn.metrics import explained_variance_score, mean_absolute_error\n",
    "from sklearn.metrics import auc, roc_curve\n",
    "#1.0.3 This library means for reduce the dimensions \n",
    "from sklearn.decomposition import PCA\n",
    "\n",
    "#1.0.4 libraries for hyperparamenter optimization\n",
    "from sklearn.model_selection import GridSearchCV, RandomizedSearchCV\n",
    "from xgboost import XGBRegressor\n",
    "from sklearn.model_selection import StratifiedKFold\n",
    "#1.0.5 Calling plotting libraries for visualizing the data \n",
    "import seaborn as sn\n",
    "import matplotlib.pyplot as plt\n",
    "\n",
    "# 1.13 Used in Randomized parameter search\n",
    "from skopt import BayesSearchCV\n",
    "from skopt.space import Real,Integer,Categorical\n",
    "from scipy.stats import uniform\n",
    "\n",
    "#1.14 calling lightgbm\n",
    "import lightgbm as lgb\n",
    "from lightgbm import LGBMRegressor"
   ]
  },
  {
   "cell_type": "markdown",
   "id": "5ceade7d",
   "metadata": {
    "papermill": {
     "duration": 0.016184,
     "end_time": "2022-11-18T18:42:32.738540",
     "exception": false,
     "start_time": "2022-11-18T18:42:32.722356",
     "status": "completed"
    },
    "tags": []
   },
   "source": [
    "<div style=\"font-family: Segoe UI; line-height: 2; color: #DE3163; text-align: justify;font-size: 25px\">\n",
    "    <b>Loading Dataset</b>\n",
    "\n"
   ]
  },
  {
   "cell_type": "code",
   "execution_count": 2,
   "id": "86f95daa",
   "metadata": {
    "execution": {
     "iopub.execute_input": "2022-11-18T18:42:32.775015Z",
     "iopub.status.busy": "2022-11-18T18:42:32.774556Z",
     "iopub.status.idle": "2022-11-18T18:42:32.812858Z",
     "shell.execute_reply": "2022-11-18T18:42:32.811931Z"
    },
    "papermill": {
     "duration": 0.059262,
     "end_time": "2022-11-18T18:42:32.815486",
     "exception": false,
     "start_time": "2022-11-18T18:42:32.756224",
     "status": "completed"
    },
    "tags": []
   },
   "outputs": [],
   "source": [
    "#Reading the data\n",
    "xdata=pd.read_csv(\"walmart-sales-dataset-of-45stores.csv\")"
   ]
  },
  {
   "cell_type": "markdown",
   "id": "adba3b22",
   "metadata": {
    "papermill": {
     "duration": 0.016805,
     "end_time": "2022-11-18T18:42:32.850343",
     "exception": false,
     "start_time": "2022-11-18T18:42:32.833538",
     "status": "completed"
    },
    "tags": []
   },
   "source": [
    "<div style=\"font-family: Segoe UI; line-height: 2; color: #DE3163; text-align: justify;font-size: 25px\">\n",
    "     <b>Pre-processing data</b>\n"
   ]
  },
  {
   "cell_type": "code",
   "execution_count": 3,
   "id": "a20b5b0a",
   "metadata": {
    "execution": {
     "iopub.execute_input": "2022-11-18T18:42:32.885433Z",
     "iopub.status.busy": "2022-11-18T18:42:32.885052Z",
     "iopub.status.idle": "2022-11-18T18:42:32.905353Z",
     "shell.execute_reply": "2022-11-18T18:42:32.904566Z"
    },
    "papermill": {
     "duration": 0.040801,
     "end_time": "2022-11-18T18:42:32.907695",
     "exception": false,
     "start_time": "2022-11-18T18:42:32.866894",
     "status": "completed"
    },
    "tags": []
   },
   "outputs": [
    {
     "data": {
      "text/plain": [
       "45      1\n",
       "143     1\n",
       "6435    1\n",
       "2       1\n",
       "3528    1\n",
       "892     1\n",
       "2145    1\n",
       "349     1\n",
       "dtype: int64"
      ]
     },
     "execution_count": 3,
     "metadata": {},
     "output_type": "execute_result"
    }
   ],
   "source": [
    "#Chekcing the unique value counts\n",
    "xdata.nunique().value_counts()"
   ]
  },
  {
   "cell_type": "code",
   "execution_count": 4,
   "id": "eb727858",
   "metadata": {
    "execution": {
     "iopub.execute_input": "2022-11-18T18:42:32.943695Z",
     "iopub.status.busy": "2022-11-18T18:42:32.943100Z",
     "iopub.status.idle": "2022-11-18T18:42:32.949299Z",
     "shell.execute_reply": "2022-11-18T18:42:32.948340Z"
    },
    "papermill": {
     "duration": 0.027059,
     "end_time": "2022-11-18T18:42:32.951746",
     "exception": false,
     "start_time": "2022-11-18T18:42:32.924687",
     "status": "completed"
    },
    "tags": []
   },
   "outputs": [
    {
     "data": {
      "text/plain": [
       "Index(['Store', 'Date', 'Weekly_Sales', 'Holiday_Flag', 'Temperature',\n",
       "       'Fuel_Price', 'CPI', 'Unemployment'],\n",
       "      dtype='object')"
      ]
     },
     "execution_count": 4,
     "metadata": {},
     "output_type": "execute_result"
    }
   ],
   "source": [
    "# Number of columns\n",
    "xdata.columns"
   ]
  },
  {
   "cell_type": "code",
   "execution_count": 5,
   "id": "dceb1d25",
   "metadata": {
    "execution": {
     "iopub.execute_input": "2022-11-18T18:42:32.989082Z",
     "iopub.status.busy": "2022-11-18T18:42:32.987796Z",
     "iopub.status.idle": "2022-11-18T18:42:32.996576Z",
     "shell.execute_reply": "2022-11-18T18:42:32.995565Z"
    },
    "papermill": {
     "duration": 0.029284,
     "end_time": "2022-11-18T18:42:32.998798",
     "exception": false,
     "start_time": "2022-11-18T18:42:32.969514",
     "status": "completed"
    },
    "tags": []
   },
   "outputs": [
    {
     "data": {
      "text/plain": [
       "Store             int64\n",
       "Date             object\n",
       "Weekly_Sales    float64\n",
       "Holiday_Flag      int64\n",
       "Temperature     float64\n",
       "Fuel_Price      float64\n",
       "CPI             float64\n",
       "Unemployment    float64\n",
       "dtype: object"
      ]
     },
     "execution_count": 5,
     "metadata": {},
     "output_type": "execute_result"
    }
   ],
   "source": [
    "#datatypes for each column\n",
    "xdata.dtypes"
   ]
  },
  {
   "cell_type": "code",
   "execution_count": 6,
   "id": "6b40d984",
   "metadata": {
    "execution": {
     "iopub.execute_input": "2022-11-18T18:42:33.034925Z",
     "iopub.status.busy": "2022-11-18T18:42:33.034283Z",
     "iopub.status.idle": "2022-11-18T18:42:33.045300Z",
     "shell.execute_reply": "2022-11-18T18:42:33.044156Z"
    },
    "papermill": {
     "duration": 0.032161,
     "end_time": "2022-11-18T18:42:33.047836",
     "exception": false,
     "start_time": "2022-11-18T18:42:33.015675",
     "status": "completed"
    },
    "tags": []
   },
   "outputs": [],
   "source": [
    "#selecting the features \n",
    "hdata=xdata.copy()\n",
    "xdata.drop(['Date'],axis=1, inplace=True)\n",
    "target='Weekly_Sales'\n",
    "features=[fe for fe in xdata.columns if fe not in target]"
   ]
  },
  {
   "cell_type": "code",
   "execution_count": 7,
   "id": "f2cc54bb",
   "metadata": {
    "execution": {
     "iopub.execute_input": "2022-11-18T18:42:33.084217Z",
     "iopub.status.busy": "2022-11-18T18:42:33.083753Z",
     "iopub.status.idle": "2022-11-18T18:42:33.089929Z",
     "shell.execute_reply": "2022-11-18T18:42:33.089011Z"
    },
    "papermill": {
     "duration": 0.026991,
     "end_time": "2022-11-18T18:42:33.092100",
     "exception": false,
     "start_time": "2022-11-18T18:42:33.065109",
     "status": "completed"
    },
    "tags": []
   },
   "outputs": [
    {
     "data": {
      "text/plain": [
       "['Store', 'Holiday_Flag', 'Temperature', 'Fuel_Price', 'CPI', 'Unemployment']"
      ]
     },
     "execution_count": 7,
     "metadata": {},
     "output_type": "execute_result"
    }
   ],
   "source": [
    "#Features name\n",
    "features"
   ]
  },
  {
   "cell_type": "markdown",
   "id": "6415d666",
   "metadata": {
    "papermill": {
     "duration": 0.016773,
     "end_time": "2022-11-18T18:42:33.126523",
     "exception": false,
     "start_time": "2022-11-18T18:42:33.109750",
     "status": "completed"
    },
    "tags": []
   },
   "source": [
    "<div style=\"font-family: Segoe UI; line-height: 2; color: #DE3163; text-align: justify;font-size: 25px\">\n",
    "     <b>Feature Engineering</b>\n"
   ]
  },
  {
   "cell_type": "code",
   "execution_count": 8,
   "id": "0bee97e9",
   "metadata": {
    "execution": {
     "iopub.execute_input": "2022-11-18T18:42:33.162717Z",
     "iopub.status.busy": "2022-11-18T18:42:33.162300Z",
     "iopub.status.idle": "2022-11-18T18:42:33.175118Z",
     "shell.execute_reply": "2022-11-18T18:42:33.173643Z"
    },
    "papermill": {
     "duration": 0.034493,
     "end_time": "2022-11-18T18:42:33.178197",
     "exception": false,
     "start_time": "2022-11-18T18:42:33.143704",
     "status": "completed"
    },
    "tags": []
   },
   "outputs": [
    {
     "name": "stdout",
     "output_type": "stream",
     "text": [
      "Numerical 0\n",
      "Numerical 1\n",
      "Numerical 2\n",
      "Numerical 3\n",
      "Categorical 4\n",
      "Categorical 5\n"
     ]
    }
   ],
   "source": [
    "#Identifying the categorical and numerical feature\n",
    "nu=xdata[features].nunique().sort_values(ascending=False)\n",
    "cf=[]; nf=[]\n",
    "\n",
    "for x in range(xdata[features].shape[1]):\n",
    "    if nu.values[x]<=45:\n",
    "        print(\"Categorical\",x)\n",
    "        cf.append(nu.index[x])\n",
    "    else:\n",
    "          print(\"Numerical\",x)\n",
    "          nf.append(nu.index[x])"
   ]
  },
  {
   "cell_type": "code",
   "execution_count": 9,
   "id": "34e65cb3",
   "metadata": {
    "execution": {
     "iopub.execute_input": "2022-11-18T18:42:33.216299Z",
     "iopub.status.busy": "2022-11-18T18:42:33.215607Z",
     "iopub.status.idle": "2022-11-18T18:42:33.222640Z",
     "shell.execute_reply": "2022-11-18T18:42:33.221304Z"
    },
    "papermill": {
     "duration": 0.029041,
     "end_time": "2022-11-18T18:42:33.225041",
     "exception": false,
     "start_time": "2022-11-18T18:42:33.196000",
     "status": "completed"
    },
    "tags": []
   },
   "outputs": [
    {
     "data": {
      "text/plain": [
       "['Store', 'Holiday_Flag']"
      ]
     },
     "execution_count": 9,
     "metadata": {},
     "output_type": "execute_result"
    }
   ],
   "source": [
    "#categorical features\n",
    "cf"
   ]
  },
  {
   "cell_type": "code",
   "execution_count": 10,
   "id": "455c86bf",
   "metadata": {
    "execution": {
     "iopub.execute_input": "2022-11-18T18:42:33.261393Z",
     "iopub.status.busy": "2022-11-18T18:42:33.260999Z",
     "iopub.status.idle": "2022-11-18T18:42:33.267251Z",
     "shell.execute_reply": "2022-11-18T18:42:33.266377Z"
    },
    "papermill": {
     "duration": 0.027142,
     "end_time": "2022-11-18T18:42:33.269463",
     "exception": false,
     "start_time": "2022-11-18T18:42:33.242321",
     "status": "completed"
    },
    "tags": []
   },
   "outputs": [
    {
     "data": {
      "text/plain": [
       "['Temperature', 'CPI', 'Fuel_Price', 'Unemployment']"
      ]
     },
     "execution_count": 10,
     "metadata": {},
     "output_type": "execute_result"
    }
   ],
   "source": [
    "#Numerical features\n",
    "nf"
   ]
  },
  {
   "cell_type": "markdown",
   "id": "9a5c1601",
   "metadata": {
    "papermill": {
     "duration": 0.017442,
     "end_time": "2022-11-18T18:42:33.304956",
     "exception": false,
     "start_time": "2022-11-18T18:42:33.287514",
     "status": "completed"
    },
    "tags": []
   },
   "source": [
    "<div style=\"font-family: Segoe UI; line-height: 2; color: #DE3163; text-align: justify;font-size: 25px\">\n",
    "    <b>Visualizing Numerical features:</b>\n"
   ]
  },
  {
   "cell_type": "code",
   "execution_count": 11,
   "id": "d1dbd889",
   "metadata": {
    "execution": {
     "iopub.execute_input": "2022-11-18T18:42:33.342085Z",
     "iopub.status.busy": "2022-11-18T18:42:33.340913Z",
     "iopub.status.idle": "2022-11-18T18:42:35.127003Z",
     "shell.execute_reply": "2022-11-18T18:42:35.125743Z"
    },
    "papermill": {
     "duration": 1.807244,
     "end_time": "2022-11-18T18:42:35.129643",
     "exception": false,
     "start_time": "2022-11-18T18:42:33.322399",
     "status": "completed"
    },
    "tags": []
   },
   "outputs": [
    {
     "data": {
      "image/png": "[encoded data removed]",
      "text/plain": [
       "<Figure size 360x360 with 1 Axes>"
      ]
     },
     "metadata": {
      "needs_background": "light"
     },
     "output_type": "display_data"
    },
    {
     "data": {
      "image/png": "[encoded data removed]",
      "text/plain": [
       "<Figure size 360x360 with 1 Axes>"
      ]
     },
     "metadata": {
      "needs_background": "light"
     },
     "output_type": "display_data"
    },
    {
     "data": {
      "image/png": "[encoded data removed]",
      "text/plain": [
       "<Figure size 360x360 with 1 Axes>"
      ]
     },
     "metadata": {
      "needs_background": "light"
     },
     "output_type": "display_data"
    },
    {
     "data": {
      "image/png": "[encoded data removed]",
      "text/plain": [
       "<Figure size 360x360 with 1 Axes>"
      ]
     },
     "metadata": {
      "needs_background": "light"
     },
     "output_type": "display_data"
    }
   ],
   "source": [
    "for i in range(len(nf)):\n",
    "    sn.displot(xdata[nf[i]], kde=True)\n",
    "    \n",
    "plt.tight_layout()\n",
    "plt.show()\n"
   ]
  },
  {
   "cell_type": "markdown",
   "id": "79a3c58b",
   "metadata": {
    "papermill": {
     "duration": 0.021013,
     "end_time": "2022-11-18T18:42:35.170397",
     "exception": false,
     "start_time": "2022-11-18T18:42:35.149384",
     "status": "completed"
    },
    "tags": []
   },
   "source": [
    "<div style=\"font-family: Segoe UI; line-height: 2; color: #DE3163; text-align: justify;font-size: 25px\">\n",
    "    <b>Visualizing categorical features:</b>"
   ]
  },
  {
   "cell_type": "code",
   "execution_count": 12,
   "id": "1d9e46ad",
   "metadata": {
    "execution": {
     "iopub.execute_input": "2022-11-18T18:42:35.213194Z",
     "iopub.status.busy": "2022-11-18T18:42:35.212758Z",
     "iopub.status.idle": "2022-11-18T18:42:35.774154Z",
     "shell.execute_reply": "2022-11-18T18:42:35.772877Z"
    },
    "papermill": {
     "duration": 0.585272,
     "end_time": "2022-11-18T18:42:35.776733",
     "exception": false,
     "start_time": "2022-11-18T18:42:35.191461",
     "status": "completed"
    },
    "tags": []
   },
   "outputs": [
    {
     "data": {
      "image/png": "[encoded data removed]",
      "text/plain": [
       "<Figure size 864x504 with 1 Axes>"
      ]
     },
     "metadata": {
      "needs_background": "light"
     },
     "output_type": "display_data"
    },
    {
     "data": {
      "image/png": "[encoded data removed]",
      "text/plain": [
       "<Figure size 864x504 with 1 Axes>"
      ]
     },
     "metadata": {
      "needs_background": "light"
     },
     "output_type": "display_data"
    }
   ],
   "source": [
    "#Visualizing the categorical feature\n",
    "for x in range(len(cf)):\n",
    "    plt.subplots(figsize=(12,7))\n",
    "    sn.histplot(xdata[cf[x]]);\n",
    "    "
   ]
  },
  {
   "cell_type": "code",
   "execution_count": 13,
   "id": "1474d119",
   "metadata": {
    "execution": {
     "iopub.execute_input": "2022-11-18T18:42:35.820570Z",
     "iopub.status.busy": "2022-11-18T18:42:35.819380Z",
     "iopub.status.idle": "2022-11-18T18:42:35.830547Z",
     "shell.execute_reply": "2022-11-18T18:42:35.829424Z"
    },
    "papermill": {
     "duration": 0.036225,
     "end_time": "2022-11-18T18:42:35.833289",
     "exception": false,
     "start_time": "2022-11-18T18:42:35.797064",
     "status": "completed"
    },
    "tags": []
   },
   "outputs": [
    {
     "name": "stderr",
     "output_type": "stream",
     "text": [
      "C:\\Users\\Administrator\\AppData\\Local\\Temp\\ipykernel_16088\\913170587.py:2: UserWarning: Parsing dates in DD/MM/YYYY format when dayfirst=False (the default) was specified. This may lead to inconsistently parsed dates! Specify a format to ensure consistent parsing.\n",
      "  hdata[\"Date\"]=pd.to_datetime(hdata[\"Date\"])\n"
     ]
    }
   ],
   "source": [
    "#Date conversion \n",
    "hdata[\"Date\"]=pd.to_datetime(hdata[\"Date\"])"
   ]
  },
  {
   "cell_type": "code",
   "execution_count": 14,
   "id": "ec41eca4",
   "metadata": {
    "execution": {
     "iopub.execute_input": "2022-11-18T18:42:35.874201Z",
     "iopub.status.busy": "2022-11-18T18:42:35.873775Z",
     "iopub.status.idle": "2022-11-18T18:42:35.897783Z",
     "shell.execute_reply": "2022-11-18T18:42:35.896843Z"
    },
    "papermill": {
     "duration": 0.047315,
     "end_time": "2022-11-18T18:42:35.900396",
     "exception": false,
     "start_time": "2022-11-18T18:42:35.853081",
     "status": "completed"
    },
    "tags": []
   },
   "outputs": [],
   "source": [
    "#Date tranforming to month and year\n",
    "hdata[\"month\"]=pd.to_datetime(hdata[\"Date\"]).dt.month\n",
    "hdata[\"year\"]=pd.to_datetime(hdata[\"Date\"]).dt.year"
   ]
  },
  {
   "cell_type": "markdown",
   "id": "07851516",
   "metadata": {
    "papermill": {
     "duration": 0.0203,
     "end_time": "2022-11-18T18:42:35.941501",
     "exception": false,
     "start_time": "2022-11-18T18:42:35.921201",
     "status": "completed"
    },
    "tags": []
   },
   "source": [
    "<div style=\"font-family: Segoe UI; line-height: 2; color: #BF3100; text-align: justify;font-size: 25px\">\n",
    "     <b>Checking newest and oldest store</b>"
   ]
  },
  {
   "cell_type": "markdown",
   "id": "6c898717",
   "metadata": {
    "papermill": {
     "duration": 0.01901,
     "end_time": "2022-11-18T18:42:35.980314",
     "exception": false,
     "start_time": "2022-11-18T18:42:35.961304",
     "status": "completed"
    },
    "tags": []
   },
   "source": [
    "I am going to create \"Store_date\" that going to indicate when the store has been opend in the data base. However in order to get this, i am taking the most reletive dates to check newest and oldest dates. "
   ]
  },
  {
   "cell_type": "code",
   "execution_count": 15,
   "id": "af1cb4eb",
   "metadata": {
    "execution": {
     "iopub.execute_input": "2022-11-18T18:42:36.021748Z",
     "iopub.status.busy": "2022-11-18T18:42:36.020873Z",
     "iopub.status.idle": "2022-11-18T18:42:36.039140Z",
     "shell.execute_reply": "2022-11-18T18:42:36.037721Z"
    },
    "papermill": {
     "duration": 0.043244,
     "end_time": "2022-11-18T18:42:36.042998",
     "exception": false,
     "start_time": "2022-11-18T18:42:35.999754",
     "status": "completed"
    },
    "tags": []
   },
   "outputs": [
    {
     "name": "stdout",
     "output_type": "stream",
     "text": [
      "The newest store opened on date in the records: \n",
      " 2012-12-10\n",
      "The oldest store opened as on date in the records: \n",
      " 2010-01-10\n"
     ]
    }
   ],
   "source": [
    "hdata[\"Store_date\"]=hdata[\"Date\"]\n",
    "dates=[]\n",
    "for x in hdata[\"Store_date\"]:\n",
    "    x=x.date()\n",
    "    dates.append(x)\n",
    "    \n",
    "print(\"The newest store opened on date in the records: \\n\",max(dates))  \n",
    "print(\"The oldest store opened as on date in the records: \\n\",min(dates)) "
   ]
  },
  {
   "cell_type": "code",
   "execution_count": 16,
   "id": "7356b575",
   "metadata": {
    "execution": {
     "iopub.execute_input": "2022-11-18T18:42:36.087137Z",
     "iopub.status.busy": "2022-11-18T18:42:36.086031Z",
     "iopub.status.idle": "2022-11-18T18:42:36.095756Z",
     "shell.execute_reply": "2022-11-18T18:42:36.094325Z"
    },
    "papermill": {
     "duration": 0.034663,
     "end_time": "2022-11-18T18:42:36.098559",
     "exception": false,
     "start_time": "2022-11-18T18:42:36.063896",
     "status": "completed"
    },
    "tags": []
   },
   "outputs": [],
   "source": [
    "data=hdata[(hdata[\"Weekly_Sales\"]>hdata[\"Weekly_Sales\"].min())]"
   ]
  },
  {
   "cell_type": "code",
   "execution_count": 17,
   "id": "059fcf82",
   "metadata": {
    "execution": {
     "iopub.execute_input": "2022-11-18T18:42:36.141625Z",
     "iopub.status.busy": "2022-11-18T18:42:36.140756Z",
     "iopub.status.idle": "2022-11-18T18:42:36.151290Z",
     "shell.execute_reply": "2022-11-18T18:42:36.150100Z"
    },
    "papermill": {
     "duration": 0.034985,
     "end_time": "2022-11-18T18:42:36.154335",
     "exception": false,
     "start_time": "2022-11-18T18:42:36.119350",
     "status": "completed"
    },
    "tags": []
   },
   "outputs": [],
   "source": [
    "Highest_sale_store=hdata[(hdata[\"Weekly_Sales\"]>1046964)]\n",
    "Lowest_sale_store=hdata[(hdata[\"Weekly_Sales\"]<1046964)]\n",
    "hdata[\"h_sale_store\"]=Highest_sale_store[\"Store\"]\n",
    "hdata[\"l_sale_store\"]=Lowest_sale_store[\"Store\"]"
   ]
  },
  {
   "cell_type": "code",
   "execution_count": 18,
   "id": "fb83f890",
   "metadata": {
    "execution": {
     "iopub.execute_input": "2022-11-18T18:42:36.197828Z",
     "iopub.status.busy": "2022-11-18T18:42:36.197407Z",
     "iopub.status.idle": "2022-11-18T18:42:36.209396Z",
     "shell.execute_reply": "2022-11-18T18:42:36.208078Z"
    },
    "papermill": {
     "duration": 0.03708,
     "end_time": "2022-11-18T18:42:36.212232",
     "exception": false,
     "start_time": "2022-11-18T18:42:36.175152",
     "status": "completed"
    },
    "tags": []
   },
   "outputs": [],
   "source": [
    "#Christmas dates sale\n",
    "df=hdata.copy()\n",
    "df.loc[(df['Date'] == '2010-12-31')|(df['Date'] == '2011-12-30'),'Christmas'] = True\n",
    "df.loc[(df['Date'] != '2010-12-31')&(df['Date'] != '2011-12-30'),'Christmas'] = False"
   ]
  },
  {
   "cell_type": "code",
   "execution_count": 19,
   "id": "d8fd918e",
   "metadata": {
    "execution": {
     "iopub.execute_input": "2022-11-18T18:42:36.255317Z",
     "iopub.status.busy": "2022-11-18T18:42:36.254913Z",
     "iopub.status.idle": "2022-11-18T18:42:36.562116Z",
     "shell.execute_reply": "2022-11-18T18:42:36.560927Z"
    },
    "papermill": {
     "duration": 0.332192,
     "end_time": "2022-11-18T18:42:36.564674",
     "exception": false,
     "start_time": "2022-11-18T18:42:36.232482",
     "status": "completed"
    },
    "tags": []
   },
   "outputs": [
    {
     "data": {
      "image/png": "[encoded data removed]",
      "text/plain": [
       "<Figure size 432x288 with 1 Axes>"
      ]
     },
     "metadata": {
      "needs_background": "light"
     },
     "output_type": "display_data"
    }
   ],
   "source": [
    "# Christmas holiday vs not-Christmas\n",
    "sn.barplot(x='Christmas', y='Weekly_Sales', data=df);"
   ]
  },
  {
   "cell_type": "markdown",
   "id": "dc0731a4",
   "metadata": {
    "papermill": {
     "duration": 0.019405,
     "end_time": "2022-11-18T18:42:36.604626",
     "exception": false,
     "start_time": "2022-11-18T18:42:36.585221",
     "status": "completed"
    },
    "tags": []
   },
   "source": [
    "<div style=\"font-family: Segoe UI; line-height: 2; color: #DE3163; text-align: justify;font-size: 25px\">\n",
    "     <b>XGBoosting Hyperparameter Tuning</b>"
   ]
  },
  {
   "cell_type": "code",
   "execution_count": 20,
   "id": "1a7578d6",
   "metadata": {
    "execution": {
     "iopub.execute_input": "2022-11-18T18:42:36.646163Z",
     "iopub.status.busy": "2022-11-18T18:42:36.645720Z",
     "iopub.status.idle": "2022-11-18T18:42:36.652673Z",
     "shell.execute_reply": "2022-11-18T18:42:36.651254Z"
    },
    "papermill": {
     "duration": 0.03072,
     "end_time": "2022-11-18T18:42:36.655045",
     "exception": false,
     "start_time": "2022-11-18T18:42:36.624325",
     "status": "completed"
    },
    "tags": []
   },
   "outputs": [],
   "source": [
    "#Preparing the training and test data\n",
    "X=xdata[features]\n",
    "y=xdata.Weekly_Sales.astype(int)"
   ]
  },
  {
   "cell_type": "code",
   "execution_count": 21,
   "id": "ab616f22",
   "metadata": {
    "execution": {
     "iopub.execute_input": "2022-11-18T18:42:36.696458Z",
     "iopub.status.busy": "2022-11-18T18:42:36.696037Z",
     "iopub.status.idle": "2022-11-18T18:42:36.704195Z",
     "shell.execute_reply": "2022-11-18T18:42:36.703228Z"
    },
    "papermill": {
     "duration": 0.031682,
     "end_time": "2022-11-18T18:42:36.706478",
     "exception": false,
     "start_time": "2022-11-18T18:42:36.674796",
     "status": "completed"
    },
    "tags": []
   },
   "outputs": [],
   "source": [
    "#spliting the data\n",
    "X_train,X_test,y_train,y_test=train_test_split(X,y, test_size=0.3,shuffle = True)"
   ]
  },
  {
   "cell_type": "markdown",
   "id": "aac4b43a",
   "metadata": {
    "papermill": {
     "duration": 0.019458,
     "end_time": "2022-11-18T18:42:36.746169",
     "exception": false,
     "start_time": "2022-11-18T18:42:36.726711",
     "status": "completed"
    },
    "tags": []
   },
   "source": [
    "<div style=\"font-family: Segoe UI; line-height: 2; color: #DE3163; text-align: justify;font-size: 25px\">\n",
    "     <b>XGBoosting and GridSearchCV</b>\n"
   ]
  },
  {
   "cell_type": "code",
   "execution_count": 22,
   "id": "4ca612da",
   "metadata": {
    "execution": {
     "iopub.execute_input": "2022-11-18T18:42:36.787874Z",
     "iopub.status.busy": "2022-11-18T18:42:36.786792Z",
     "iopub.status.idle": "2022-11-18T18:42:36.792601Z",
     "shell.execute_reply": "2022-11-18T18:42:36.791497Z"
    },
    "papermill": {
     "duration": 0.029037,
     "end_time": "2022-11-18T18:42:36.794834",
     "exception": false,
     "start_time": "2022-11-18T18:42:36.765797",
     "status": "completed"
    },
    "tags": []
   },
   "outputs": [],
   "source": [
    "#Initializing xgb hyperparameter\n",
    "params={'learning_rate':[0.01, 0.1],\n",
    "        'max_depth':[2,5],\n",
    "        'min_child_weight':[1,3,5],\n",
    "        'subsample':[.5, .7],\n",
    "        'n_estimators':[100,150]}"
   ]
  },
  {
   "cell_type": "code",
   "execution_count": 23,
   "id": "c07904a5",
   "metadata": {
    "execution": {
     "iopub.execute_input": "2022-11-18T18:42:36.836896Z",
     "iopub.status.busy": "2022-11-18T18:42:36.836058Z",
     "iopub.status.idle": "2022-11-18T18:42:36.841521Z",
     "shell.execute_reply": "2022-11-18T18:42:36.840562Z"
    },
    "papermill": {
     "duration": 0.02914,
     "end_time": "2022-11-18T18:42:36.843893",
     "exception": false,
     "start_time": "2022-11-18T18:42:36.814753",
     "status": "completed"
    },
    "tags": []
   },
   "outputs": [],
   "source": [
    "#Creating xgboost regressor object\n",
    "xgmodel=XGBRegressor()\n",
    "gsearch=GridSearchCV(estimator=xgmodel,\n",
    "                     param_grid=params,\n",
    "                     cv=2,verbose=1,\n",
    "                     n_jobs=-1,\n",
    "                    )"
   ]
  },
  {
   "cell_type": "code",
   "execution_count": 24,
   "id": "6311371e",
   "metadata": {
    "execution": {
     "iopub.execute_input": "2022-11-18T18:42:36.885967Z",
     "iopub.status.busy": "2022-11-18T18:42:36.885244Z",
     "iopub.status.idle": "2022-11-18T18:42:57.151824Z",
     "shell.execute_reply": "2022-11-18T18:42:57.150743Z"
    },
    "papermill": {
     "duration": 20.290294,
     "end_time": "2022-11-18T18:42:57.154372",
     "exception": false,
     "start_time": "2022-11-18T18:42:36.864078",
     "status": "completed"
    },
    "tags": []
   },
   "outputs": [
    {
     "name": "stdout",
     "output_type": "stream",
     "text": [
      "Fitting 2 folds for each of 48 candidates, totalling 96 fits\n"
     ]
    },
    {
     "data": {
      "text/html": [
       "<style>#sk-container-id-1 {color: black;background-color: white;}#sk-container-id-1 pre{padding: 0;}#sk-container-id-1 div.sk-toggleable {background-color: white;}#sk-container-id-1 label.sk-toggleable__label {cursor: pointer;display: block;width: 100%;margin-bottom: 0;padding: 0.3em;box-sizing: border-box;text-align: center;}#sk-container-id-1 label.sk-toggleable__label-arrow:before {content: \"▸\";float: left;margin-right: 0.25em;color: #696969;}#sk-container-id-1 label.sk-toggleable__label-arrow:hover:before {color: black;}#sk-container-id-1 div.sk-estimator:hover label.sk-toggleable__label-arrow:before {color: black;}#sk-container-id-1 div.sk-toggleable__content {max-height: 0;max-width: 0;overflow: hidden;text-align: left;background-color: #f0f8ff;}#sk-container-id-1 div.sk-toggleable__content pre {margin: 0.2em;color: black;border-radius: 0.25em;background-color: #f0f8ff;}#sk-container-id-1 input.sk-toggleable__control:checked~div.sk-toggleable__content {max-height: 200px;max-width: 100%;overflow: auto;}#sk-container-id-1 input.sk-toggleable__control:checked~label.sk-toggleable__label-arrow:before {content: \"▾\";}#sk-container-id-1 div.sk-estimator input.sk-toggleable__control:checked~label.sk-toggleable__label {background-color: #d4ebff;}#sk-container-id-1 div.sk-label input.sk-toggleable__control:checked~label.sk-toggleable__label {background-color: #d4ebff;}#sk-container-id-1 input.sk-hidden--visually {border: 0;clip: rect(1px 1px 1px 1px);clip: rect(1px, 1px, 1px, 1px);height: 1px;margin: -1px;overflow: hidden;padding: 0;position: absolute;width: 1px;}#sk-container-id-1 div.sk-estimator {font-family: monospace;background-color: #f0f8ff;border: 1px dotted black;border-radius: 0.25em;box-sizing: border-box;margin-bottom: 0.5em;}#sk-container-id-1 div.sk-estimator:hover {background-color: #d4ebff;}#sk-container-id-1 div.sk-parallel-item::after {content: \"\";width: 100%;border-bottom: 1px solid gray;flex-grow: 1;}#sk-container-id-1 div.sk-label:hover label.sk-toggleable__label {background-color: #d4ebff;}#sk-container-id-1 div.sk-serial::before {content: \"\";position: absolute;border-left: 1px solid gray;box-sizing: border-box;top: 0;bottom: 0;left: 50%;z-index: 0;}#sk-container-id-1 div.sk-serial {display: flex;flex-direction: column;align-items: center;background-color: white;padding-right: 0.2em;padding-left: 0.2em;position: relative;}#sk-container-id-1 div.sk-item {position: relative;z-index: 1;}#sk-container-id-1 div.sk-parallel {display: flex;align-items: stretch;justify-content: center;background-color: white;position: relative;}#sk-container-id-1 div.sk-item::before, #sk-container-id-1 div.sk-parallel-item::before {content: \"\";position: absolute;border-left: 1px solid gray;box-sizing: border-box;top: 0;bottom: 0;left: 50%;z-index: -1;}#sk-container-id-1 div.sk-parallel-item {display: flex;flex-direction: column;z-index: 1;position: relative;background-color: white;}#sk-container-id-1 div.sk-parallel-item:first-child::after {align-self: flex-end;width: 50%;}#sk-container-id-1 div.sk-parallel-item:last-child::after {align-self: flex-start;width: 50%;}#sk-container-id-1 div.sk-parallel-item:only-child::after {width: 0;}#sk-container-id-1 div.sk-dashed-wrapped {border: 1px dashed gray;margin: 0 0.4em 0.5em 0.4em;box-sizing: border-box;padding-bottom: 0.4em;background-color: white;}#sk-container-id-1 div.sk-label label {font-family: monospace;font-weight: bold;display: inline-block;line-height: 1.2em;}#sk-container-id-1 div.sk-label-container {text-align: center;}#sk-container-id-1 div.sk-container {/* jupyter's `normalize.less` sets `[hidden] { display: none; }` but bootstrap.min.css set `[hidden] { display: none !important; }` so we also need the `!important` here to be able to override the default hidden behavior on the sphinx rendered scikit-learn.org. See: https://github.com/scikit-learn/scikit-learn/issues/21755 */display: inline-block !important;position: relative;}#sk-container-id-1 div.sk-text-repr-fallback {display: none;}</style><div id=\"sk-container-id-1\" class=\"sk-top-container\"><div class=\"sk-text-repr-fallback\"><pre>GridSearchCV(cv=2,\n",
       "             estimator=XGBRegressor(base_score=None, booster=None,\n",
       "                                    callbacks=None, colsample_bylevel=None,\n",
       "                                    colsample_bynode=None,\n",
       "                                    colsample_bytree=None,\n",
       "                                    early_stopping_rounds=None,\n",
       "                                    enable_categorical=False, eval_metric=None,\n",
       "                                    feature_types=None, gamma=None, gpu_id=None,\n",
       "                                    grow_policy=None, importance_type=None,\n",
       "                                    interaction_constraints=None,\n",
       "                                    learning_rate=None, m...\n",
       "                                    max_cat_to_onehot=None, max_delta_step=None,\n",
       "                                    max_depth=None, max_leaves=None,\n",
       "                                    min_child_weight=None, missing=nan,\n",
       "                                    monotone_constraints=None, n_estimators=100,\n",
       "                                    n_jobs=None, num_parallel_tree=None,\n",
       "                                    predictor=None, random_state=None, ...),\n",
       "             n_jobs=-1,\n",
       "             param_grid={&#x27;learning_rate&#x27;: [0.01, 0.1], &#x27;max_depth&#x27;: [2, 5],\n",
       "                         &#x27;min_child_weight&#x27;: [1, 3, 5],\n",
       "                         &#x27;n_estimators&#x27;: [100, 150], &#x27;subsample&#x27;: [0.5, 0.7]},\n",
       "             verbose=1)</pre><b>In a Jupyter environment, please rerun this cell to show the HTML representation or trust the notebook. <br />On GitHub, the HTML representation is unable to render, please try loading this page with nbviewer.org.</b></div><div class=\"sk-container\" hidden><div class=\"sk-item sk-dashed-wrapped\"><div class=\"sk-label-container\"><div class=\"sk-label sk-toggleable\"><input class=\"sk-toggleable__control sk-hidden--visually\" id=\"sk-estimator-id-1\" type=\"checkbox\" ><label for=\"sk-estimator-id-1\" class=\"sk-toggleable__label sk-toggleable__label-arrow\">GridSearchCV</label><div class=\"sk-toggleable__content\"><pre>GridSearchCV(cv=2,\n",
       "             estimator=XGBRegressor(base_score=None, booster=None,\n",
       "                                    callbacks=None, colsample_bylevel=None,\n",
       "                                    colsample_bynode=None,\n",
       "                                    colsample_bytree=None,\n",
       "                                    early_stopping_rounds=None,\n",
       "                                    enable_categorical=False, eval_metric=None,\n",
       "                                    feature_types=None, gamma=None, gpu_id=None,\n",
       "                                    grow_policy=None, importance_type=None,\n",
       "                                    interaction_constraints=None,\n",
       "                                    learning_rate=None, m...\n",
       "                                    max_cat_to_onehot=None, max_delta_step=None,\n",
       "                                    max_depth=None, max_leaves=None,\n",
       "                                    min_child_weight=None, missing=nan,\n",
       "                                    monotone_constraints=None, n_estimators=100,\n",
       "                                    n_jobs=None, num_parallel_tree=None,\n",
       "                                    predictor=None, random_state=None, ...),\n",
       "             n_jobs=-1,\n",
       "             param_grid={&#x27;learning_rate&#x27;: [0.01, 0.1], &#x27;max_depth&#x27;: [2, 5],\n",
       "                         &#x27;min_child_weight&#x27;: [1, 3, 5],\n",
       "                         &#x27;n_estimators&#x27;: [100, 150], &#x27;subsample&#x27;: [0.5, 0.7]},\n",
       "             verbose=1)</pre></div></div></div><div class=\"sk-parallel\"><div class=\"sk-parallel-item\"><div class=\"sk-item\"><div class=\"sk-label-container\"><div class=\"sk-label sk-toggleable\"><input class=\"sk-toggleable__control sk-hidden--visually\" id=\"sk-estimator-id-2\" type=\"checkbox\" ><label for=\"sk-estimator-id-2\" class=\"sk-toggleable__label sk-toggleable__label-arrow\">estimator: XGBRegressor</label><div class=\"sk-toggleable__content\"><pre>XGBRegressor(base_score=None, booster=None, callbacks=None,\n",
       "             colsample_bylevel=None, colsample_bynode=None,\n",
       "             colsample_bytree=None, early_stopping_rounds=None,\n",
       "             enable_categorical=False, eval_metric=None, feature_types=None,\n",
       "             gamma=None, gpu_id=None, grow_policy=None, importance_type=None,\n",
       "             interaction_constraints=None, learning_rate=None, max_bin=None,\n",
       "             max_cat_threshold=None, max_cat_to_onehot=None,\n",
       "             max_delta_step=None, max_depth=None, max_leaves=None,\n",
       "             min_child_weight=None, missing=nan, monotone_constraints=None,\n",
       "             n_estimators=100, n_jobs=None, num_parallel_tree=None,\n",
       "             predictor=None, random_state=None, ...)</pre></div></div></div><div class=\"sk-serial\"><div class=\"sk-item\"><div class=\"sk-estimator sk-toggleable\"><input class=\"sk-toggleable__control sk-hidden--visually\" id=\"sk-estimator-id-3\" type=\"checkbox\" ><label for=\"sk-estimator-id-3\" class=\"sk-toggleable__label sk-toggleable__label-arrow\">XGBRegressor</label><div class=\"sk-toggleable__content\"><pre>XGBRegressor(base_score=None, booster=None, callbacks=None,\n",
       "             colsample_bylevel=None, colsample_bynode=None,\n",
       "             colsample_bytree=None, early_stopping_rounds=None,\n",
       "             enable_categorical=False, eval_metric=None, feature_types=None,\n",
       "             gamma=None, gpu_id=None, grow_policy=None, importance_type=None,\n",
       "             interaction_constraints=None, learning_rate=None, max_bin=None,\n",
       "             max_cat_threshold=None, max_cat_to_onehot=None,\n",
       "             max_delta_step=None, max_depth=None, max_leaves=None,\n",
       "             min_child_weight=None, missing=nan, monotone_constraints=None,\n",
       "             n_estimators=100, n_jobs=None, num_parallel_tree=None,\n",
       "             predictor=None, random_state=None, ...)</pre></div></div></div></div></div></div></div></div></div></div>"
      ],
      "text/plain": [
       "GridSearchCV(cv=2,\n",
       "             estimator=XGBRegressor(base_score=None, booster=None,\n",
       "                                    callbacks=None, colsample_bylevel=None,\n",
       "                                    colsample_bynode=None,\n",
       "                                    colsample_bytree=None,\n",
       "                                    early_stopping_rounds=None,\n",
       "                                    enable_categorical=False, eval_metric=None,\n",
       "                                    feature_types=None, gamma=None, gpu_id=None,\n",
       "                                    grow_policy=None, importance_type=None,\n",
       "                                    interaction_constraints=None,\n",
       "                                    learning_rate=None, m...\n",
       "                                    max_cat_to_onehot=None, max_delta_step=None,\n",
       "                                    max_depth=None, max_leaves=None,\n",
       "                                    min_child_weight=None, missing=nan,\n",
       "                                    monotone_constraints=None, n_estimators=100,\n",
       "                                    n_jobs=None, num_parallel_tree=None,\n",
       "                                    predictor=None, random_state=None, ...),\n",
       "             n_jobs=-1,\n",
       "             param_grid={'learning_rate': [0.01, 0.1], 'max_depth': [2, 5],\n",
       "                         'min_child_weight': [1, 3, 5],\n",
       "                         'n_estimators': [100, 150], 'subsample': [0.5, 0.7]},\n",
       "             verbose=1)"
      ]
     },
     "execution_count": 24,
     "metadata": {},
     "output_type": "execute_result"
    }
   ],
   "source": [
    "#Train the model\n",
    "gsearch.fit(X_train, y_train)"
   ]
  },
  {
   "cell_type": "markdown",
   "id": "4e1885c1",
   "metadata": {
    "papermill": {
     "duration": 0.020661,
     "end_time": "2022-11-18T18:42:57.195360",
     "exception": false,
     "start_time": "2022-11-18T18:42:57.174699",
     "status": "completed"
    },
    "tags": []
   },
   "source": [
    "<div style=\"font-family: Segoe UI; line-height: 2; color: #FF00FF; text-align: justify;font-size: 25px\">\n",
    "    <b>Model performance evaluation</b>\n"
   ]
  },
  {
   "cell_type": "code",
   "execution_count": 25,
   "id": "09f2f2c5",
   "metadata": {
    "execution": {
     "iopub.execute_input": "2022-11-18T18:42:57.239059Z",
     "iopub.status.busy": "2022-11-18T18:42:57.238367Z",
     "iopub.status.idle": "2022-11-18T18:42:57.244455Z",
     "shell.execute_reply": "2022-11-18T18:42:57.243521Z"
    },
    "papermill": {
     "duration": 0.030064,
     "end_time": "2022-11-18T18:42:57.246641",
     "exception": false,
     "start_time": "2022-11-18T18:42:57.216577",
     "status": "completed"
    },
    "tags": []
   },
   "outputs": [
    {
     "data": {
      "text/plain": [
       "0.9359770424252621"
      ]
     },
     "execution_count": 25,
     "metadata": {},
     "output_type": "execute_result"
    }
   ],
   "source": [
    "#Checking the best model score\n",
    "gsearch.best_score_"
   ]
  },
  {
   "cell_type": "code",
   "execution_count": 26,
   "id": "343194b0",
   "metadata": {
    "execution": {
     "iopub.execute_input": "2022-11-18T18:42:57.288502Z",
     "iopub.status.busy": "2022-11-18T18:42:57.287893Z",
     "iopub.status.idle": "2022-11-18T18:42:57.293365Z",
     "shell.execute_reply": "2022-11-18T18:42:57.292644Z"
    },
    "papermill": {
     "duration": 0.028961,
     "end_time": "2022-11-18T18:42:57.295544",
     "exception": false,
     "start_time": "2022-11-18T18:42:57.266583",
     "status": "completed"
    },
    "tags": []
   },
   "outputs": [
    {
     "data": {
      "text/plain": [
       "{'learning_rate': 0.1,\n",
       " 'max_depth': 5,\n",
       " 'min_child_weight': 1,\n",
       " 'n_estimators': 150,\n",
       " 'subsample': 0.7}"
      ]
     },
     "execution_count": 26,
     "metadata": {},
     "output_type": "execute_result"
    }
   ],
   "source": [
    "#Displaying the best params\n",
    "gsearch.best_params_"
   ]
  },
  {
   "cell_type": "code",
   "execution_count": 27,
   "id": "de5b2943",
   "metadata": {
    "execution": {
     "iopub.execute_input": "2022-11-18T18:42:57.338118Z",
     "iopub.status.busy": "2022-11-18T18:42:57.337477Z",
     "iopub.status.idle": "2022-11-18T18:42:57.343775Z",
     "shell.execute_reply": "2022-11-18T18:42:57.342569Z"
    },
    "papermill": {
     "duration": 0.030268,
     "end_time": "2022-11-18T18:42:57.346169",
     "exception": false,
     "start_time": "2022-11-18T18:42:57.315901",
     "status": "completed"
    },
    "tags": []
   },
   "outputs": [
    {
     "data": {
      "text/plain": [
       "array(['Store', 'Holiday_Flag', 'Temperature', 'Fuel_Price', 'CPI',\n",
       "       'Unemployment'], dtype='<U12')"
      ]
     },
     "execution_count": 27,
     "metadata": {},
     "output_type": "execute_result"
    }
   ],
   "source": [
    "#Checking the features names\n",
    "gsearch.feature_names_in_"
   ]
  },
  {
   "cell_type": "code",
   "execution_count": 28,
   "id": "b05d68b3",
   "metadata": {
    "execution": {
     "iopub.execute_input": "2022-11-18T18:42:57.389130Z",
     "iopub.status.busy": "2022-11-18T18:42:57.388717Z",
     "iopub.status.idle": "2022-11-18T18:42:57.407454Z",
     "shell.execute_reply": "2022-11-18T18:42:57.406474Z"
    },
    "papermill": {
     "duration": 0.043417,
     "end_time": "2022-11-18T18:42:57.410243",
     "exception": false,
     "start_time": "2022-11-18T18:42:57.366826",
     "status": "completed"
    },
    "tags": []
   },
   "outputs": [
    {
     "data": {
      "text/plain": [
       "array([ 586338.94, 1708724.1 , 1475235.9 , 1268257.5 ], dtype=float32)"
      ]
     },
     "execution_count": 28,
     "metadata": {},
     "output_type": "execute_result"
    }
   ],
   "source": [
    "#predicting the model \n",
    "y_pred=gsearch.predict(X_test)\n",
    "y_pred[:4]"
   ]
  },
  {
   "cell_type": "code",
   "execution_count": 29,
   "id": "a5ef8423",
   "metadata": {
    "execution": {
     "iopub.execute_input": "2022-11-18T18:42:57.454406Z",
     "iopub.status.busy": "2022-11-18T18:42:57.453989Z",
     "iopub.status.idle": "2022-11-18T18:42:57.463617Z",
     "shell.execute_reply": "2022-11-18T18:42:57.462279Z"
    },
    "papermill": {
     "duration": 0.033602,
     "end_time": "2022-11-18T18:42:57.465856",
     "exception": false,
     "start_time": "2022-11-18T18:42:57.432254",
     "status": "completed"
    },
    "tags": []
   },
   "outputs": [
    {
     "name": "stdout",
     "output_type": "stream",
     "text": [
      "Model performance score \n",
      "\n",
      "MSE score \n",
      " 14689205406.19293\n",
      "r2 score \n",
      " 0.952881756230612\n",
      "Explained variance score \n",
      " 0.9528842365959309\n",
      "Mean_absolute_error \n",
      " 73424.58358687209\n"
     ]
    }
   ],
   "source": [
    "print(\"Model performance score \\n\")\n",
    "print(\"MSE score \\n\",mean_squared_error(y_test,y_pred))\n",
    "print(\"r2 score \\n\", r2_score(y_test,y_pred))\n",
    "print(\"Explained variance score \\n\",explained_variance_score(y_test,y_pred))\n",
    "print(\"Mean_absolute_error \\n\",mean_absolute_error(y_test,y_pred))\n"
   ]
  },
  {
   "cell_type": "markdown",
   "id": "8ec0f2a9",
   "metadata": {
    "papermill": {
     "duration": 0.01972,
     "end_time": "2022-11-18T18:42:57.505796",
     "exception": false,
     "start_time": "2022-11-18T18:42:57.486076",
     "status": "completed"
    },
    "tags": []
   },
   "source": [
    "<div style=\"font-family: Segoe UI; line-height: 2; color: #DE3163; text-align: justify;font-size: 25px\">\n",
    "    <b>Feature importances</b>\n"
   ]
  },
  {
   "cell_type": "code",
   "execution_count": 30,
   "id": "5d64478d",
   "metadata": {
    "execution": {
     "iopub.execute_input": "2022-11-18T18:42:57.547615Z",
     "iopub.status.busy": "2022-11-18T18:42:57.547191Z",
     "iopub.status.idle": "2022-11-18T18:42:57.563167Z",
     "shell.execute_reply": "2022-11-18T18:42:57.562196Z"
    },
    "papermill": {
     "duration": 0.039529,
     "end_time": "2022-11-18T18:42:57.565386",
     "exception": false,
     "start_time": "2022-11-18T18:42:57.525857",
     "status": "completed"
    },
    "tags": []
   },
   "outputs": [
    {
     "data": {
      "text/html": [
       "<div>\n",
       "<style scoped>\n",
       "    .dataframe tbody tr th:only-of-type {\n",
       "        vertical-align: middle;\n",
       "    }\n",
       "\n",
       "    .dataframe tbody tr th {\n",
       "        vertical-align: top;\n",
       "    }\n",
       "\n",
       "    .dataframe thead th {\n",
       "        text-align: right;\n",
       "    }\n",
       "</style>\n",
       "<table border=\"1\" class=\"dataframe\">\n",
       "  <thead>\n",
       "    <tr style=\"text-align: right;\">\n",
       "      <th></th>\n",
       "      <th>0</th>\n",
       "    </tr>\n",
       "  </thead>\n",
       "  <tbody>\n",
       "    <tr>\n",
       "      <th>Store</th>\n",
       "      <td>0.549076</td>\n",
       "    </tr>\n",
       "    <tr>\n",
       "      <th>Holiday_Flag</th>\n",
       "      <td>0.022139</td>\n",
       "    </tr>\n",
       "    <tr>\n",
       "      <th>Temperature</th>\n",
       "      <td>0.020703</td>\n",
       "    </tr>\n",
       "    <tr>\n",
       "      <th>Fuel_Price</th>\n",
       "      <td>0.031502</td>\n",
       "    </tr>\n",
       "    <tr>\n",
       "      <th>CPI</th>\n",
       "      <td>0.161309</td>\n",
       "    </tr>\n",
       "    <tr>\n",
       "      <th>Unemployment</th>\n",
       "      <td>0.215271</td>\n",
       "    </tr>\n",
       "  </tbody>\n",
       "</table>\n",
       "</div>"
      ],
      "text/plain": [
       "                     0\n",
       "Store         0.549076\n",
       "Holiday_Flag  0.022139\n",
       "Temperature   0.020703\n",
       "Fuel_Price    0.031502\n",
       "CPI           0.161309\n",
       "Unemployment  0.215271"
      ]
     },
     "execution_count": 30,
     "metadata": {},
     "output_type": "execute_result"
    }
   ],
   "source": [
    "importances=gsearch.best_estimator_.feature_importances_\n",
    "f_imp=pd.DataFrame(importances,features )\n",
    "f_imp"
   ]
  },
  {
   "cell_type": "markdown",
   "id": "7400a3c6",
   "metadata": {
    "papermill": {
     "duration": 0.021652,
     "end_time": "2022-11-18T18:42:57.607507",
     "exception": false,
     "start_time": "2022-11-18T18:42:57.585855",
     "status": "completed"
    },
    "tags": []
   },
   "source": [
    "<div style=\"font-family: Segoe UI; line-height: 2; color: #FF00FF; text-align: justify;font-size: 25px\">\n",
    "     <b>RandomizedSearchCV</b>\n"
   ]
  },
  {
   "cell_type": "code",
   "execution_count": 31,
   "id": "83c52af5",
   "metadata": {
    "execution": {
     "iopub.execute_input": "2022-11-18T18:42:57.651814Z",
     "iopub.status.busy": "2022-11-18T18:42:57.651056Z",
     "iopub.status.idle": "2022-11-18T18:42:57.657827Z",
     "shell.execute_reply": "2022-11-18T18:42:57.656609Z"
    },
    "papermill": {
     "duration": 0.031526,
     "end_time": "2022-11-18T18:42:57.660175",
     "exception": false,
     "start_time": "2022-11-18T18:42:57.628649",
     "status": "completed"
    },
    "tags": []
   },
   "outputs": [],
   "source": [
    "#hyperparameter initialization \n",
    "rparams= {'learning_rate':  uniform(0, 1),\n",
    "              'n_estimators':   range(50,300),\n",
    "              'max_depth':      range(3,10)\n",
    "              }"
   ]
  },
  {
   "cell_type": "code",
   "execution_count": 32,
   "id": "6b5eabfb",
   "metadata": {
    "execution": {
     "iopub.execute_input": "2022-11-18T18:42:57.703474Z",
     "iopub.status.busy": "2022-11-18T18:42:57.703088Z",
     "iopub.status.idle": "2022-11-18T18:42:57.708278Z",
     "shell.execute_reply": "2022-11-18T18:42:57.706992Z"
    },
    "papermill": {
     "duration": 0.029648,
     "end_time": "2022-11-18T18:42:57.710429",
     "exception": false,
     "start_time": "2022-11-18T18:42:57.680781",
     "status": "completed"
    },
    "tags": []
   },
   "outputs": [],
   "source": [
    "#initiating randomize object\n",
    "rsearch=RandomizedSearchCV(estimator=xgmodel, \n",
    "                           param_distributions=rparams,\n",
    "                           cv=2, verbose=1, n_jobs=-1 )"
   ]
  },
  {
   "cell_type": "code",
   "execution_count": 33,
   "id": "2b08c92e",
   "metadata": {
    "execution": {
     "iopub.execute_input": "2022-11-18T18:42:57.754138Z",
     "iopub.status.busy": "2022-11-18T18:42:57.753643Z",
     "iopub.status.idle": "2022-11-18T18:43:07.125094Z",
     "shell.execute_reply": "2022-11-18T18:43:07.124142Z"
    },
    "papermill": {
     "duration": 9.395636,
     "end_time": "2022-11-18T18:43:07.127631",
     "exception": false,
     "start_time": "2022-11-18T18:42:57.731995",
     "status": "completed"
    },
    "tags": []
   },
   "outputs": [
    {
     "name": "stdout",
     "output_type": "stream",
     "text": [
      "Fitting 2 folds for each of 10 candidates, totalling 20 fits\n"
     ]
    },
    {
     "data": {
      "text/html": [
       "<style>#sk-container-id-2 {color: black;background-color: white;}#sk-container-id-2 pre{padding: 0;}#sk-container-id-2 div.sk-toggleable {background-color: white;}#sk-container-id-2 label.sk-toggleable__label {cursor: pointer;display: block;width: 100%;margin-bottom: 0;padding: 0.3em;box-sizing: border-box;text-align: center;}#sk-container-id-2 label.sk-toggleable__label-arrow:before {content: \"▸\";float: left;margin-right: 0.25em;color: #696969;}#sk-container-id-2 label.sk-toggleable__label-arrow:hover:before {color: black;}#sk-container-id-2 div.sk-estimator:hover label.sk-toggleable__label-arrow:before {color: black;}#sk-container-id-2 div.sk-toggleable__content {max-height: 0;max-width: 0;overflow: hidden;text-align: left;background-color: #f0f8ff;}#sk-container-id-2 div.sk-toggleable__content pre {margin: 0.2em;color: black;border-radius: 0.25em;background-color: #f0f8ff;}#sk-container-id-2 input.sk-toggleable__control:checked~div.sk-toggleable__content {max-height: 200px;max-width: 100%;overflow: auto;}#sk-container-id-2 input.sk-toggleable__control:checked~label.sk-toggleable__label-arrow:before {content: \"▾\";}#sk-container-id-2 div.sk-estimator input.sk-toggleable__control:checked~label.sk-toggleable__label {background-color: #d4ebff;}#sk-container-id-2 div.sk-label input.sk-toggleable__control:checked~label.sk-toggleable__label {background-color: #d4ebff;}#sk-container-id-2 input.sk-hidden--visually {border: 0;clip: rect(1px 1px 1px 1px);clip: rect(1px, 1px, 1px, 1px);height: 1px;margin: -1px;overflow: hidden;padding: 0;position: absolute;width: 1px;}#sk-container-id-2 div.sk-estimator {font-family: monospace;background-color: #f0f8ff;border: 1px dotted black;border-radius: 0.25em;box-sizing: border-box;margin-bottom: 0.5em;}#sk-container-id-2 div.sk-estimator:hover {background-color: #d4ebff;}#sk-container-id-2 div.sk-parallel-item::after {content: \"\";width: 100%;border-bottom: 1px solid gray;flex-grow: 1;}#sk-container-id-2 div.sk-label:hover label.sk-toggleable__label {background-color: #d4ebff;}#sk-container-id-2 div.sk-serial::before {content: \"\";position: absolute;border-left: 1px solid gray;box-sizing: border-box;top: 0;bottom: 0;left: 50%;z-index: 0;}#sk-container-id-2 div.sk-serial {display: flex;flex-direction: column;align-items: center;background-color: white;padding-right: 0.2em;padding-left: 0.2em;position: relative;}#sk-container-id-2 div.sk-item {position: relative;z-index: 1;}#sk-container-id-2 div.sk-parallel {display: flex;align-items: stretch;justify-content: center;background-color: white;position: relative;}#sk-container-id-2 div.sk-item::before, #sk-container-id-2 div.sk-parallel-item::before {content: \"\";position: absolute;border-left: 1px solid gray;box-sizing: border-box;top: 0;bottom: 0;left: 50%;z-index: -1;}#sk-container-id-2 div.sk-parallel-item {display: flex;flex-direction: column;z-index: 1;position: relative;background-color: white;}#sk-container-id-2 div.sk-parallel-item:first-child::after {align-self: flex-end;width: 50%;}#sk-container-id-2 div.sk-parallel-item:last-child::after {align-self: flex-start;width: 50%;}#sk-container-id-2 div.sk-parallel-item:only-child::after {width: 0;}#sk-container-id-2 div.sk-dashed-wrapped {border: 1px dashed gray;margin: 0 0.4em 0.5em 0.4em;box-sizing: border-box;padding-bottom: 0.4em;background-color: white;}#sk-container-id-2 div.sk-label label {font-family: monospace;font-weight: bold;display: inline-block;line-height: 1.2em;}#sk-container-id-2 div.sk-label-container {text-align: center;}#sk-container-id-2 div.sk-container {/* jupyter's `normalize.less` sets `[hidden] { display: none; }` but bootstrap.min.css set `[hidden] { display: none !important; }` so we also need the `!important` here to be able to override the default hidden behavior on the sphinx rendered scikit-learn.org. See: https://github.com/scikit-learn/scikit-learn/issues/21755 */display: inline-block !important;position: relative;}#sk-container-id-2 div.sk-text-repr-fallback {display: none;}</style><div id=\"sk-container-id-2\" class=\"sk-top-container\"><div class=\"sk-text-repr-fallback\"><pre>RandomizedSearchCV(cv=2,\n",
       "                   estimator=XGBRegressor(base_score=None, booster=None,\n",
       "                                          callbacks=None,\n",
       "                                          colsample_bylevel=None,\n",
       "                                          colsample_bynode=None,\n",
       "                                          colsample_bytree=None,\n",
       "                                          early_stopping_rounds=None,\n",
       "                                          enable_categorical=False,\n",
       "                                          eval_metric=None, feature_types=None,\n",
       "                                          gamma=None, gpu_id=None,\n",
       "                                          grow_policy=None,\n",
       "                                          importance_type=None,\n",
       "                                          interaction_constraints=None,\n",
       "                                          learning_rate=...\n",
       "                                          max_delta_step=None, max_depth=None,\n",
       "                                          max_leaves=None,\n",
       "                                          min_child_weight=None, missing=nan,\n",
       "                                          monotone_constraints=None,\n",
       "                                          n_estimators=100, n_jobs=None,\n",
       "                                          num_parallel_tree=None,\n",
       "                                          predictor=None, random_state=None, ...),\n",
       "                   n_jobs=-1,\n",
       "                   param_distributions={&#x27;learning_rate&#x27;: &lt;scipy.stats._distn_infrastructure.rv_frozen object at 0x000001730D509520&gt;,\n",
       "                                        &#x27;max_depth&#x27;: range(3, 10),\n",
       "                                        &#x27;n_estimators&#x27;: range(50, 300)},\n",
       "                   verbose=1)</pre><b>In a Jupyter environment, please rerun this cell to show the HTML representation or trust the notebook. <br />On GitHub, the HTML representation is unable to render, please try loading this page with nbviewer.org.</b></div><div class=\"sk-container\" hidden><div class=\"sk-item sk-dashed-wrapped\"><div class=\"sk-label-container\"><div class=\"sk-label sk-toggleable\"><input class=\"sk-toggleable__control sk-hidden--visually\" id=\"sk-estimator-id-4\" type=\"checkbox\" ><label for=\"sk-estimator-id-4\" class=\"sk-toggleable__label sk-toggleable__label-arrow\">RandomizedSearchCV</label><div class=\"sk-toggleable__content\"><pre>RandomizedSearchCV(cv=2,\n",
       "                   estimator=XGBRegressor(base_score=None, booster=None,\n",
       "                                          callbacks=None,\n",
       "                                          colsample_bylevel=None,\n",
       "                                          colsample_bynode=None,\n",
       "                                          colsample_bytree=None,\n",
       "                                          early_stopping_rounds=None,\n",
       "                                          enable_categorical=False,\n",
       "                                          eval_metric=None, feature_types=None,\n",
       "                                          gamma=None, gpu_id=None,\n",
       "                                          grow_policy=None,\n",
       "                                          importance_type=None,\n",
       "                                          interaction_constraints=None,\n",
       "                                          learning_rate=...\n",
       "                                          max_delta_step=None, max_depth=None,\n",
       "                                          max_leaves=None,\n",
       "                                          min_child_weight=None, missing=nan,\n",
       "                                          monotone_constraints=None,\n",
       "                                          n_estimators=100, n_jobs=None,\n",
       "                                          num_parallel_tree=None,\n",
       "                                          predictor=None, random_state=None, ...),\n",
       "                   n_jobs=-1,\n",
       "                   param_distributions={&#x27;learning_rate&#x27;: &lt;scipy.stats._distn_infrastructure.rv_frozen object at 0x000001730D509520&gt;,\n",
       "                                        &#x27;max_depth&#x27;: range(3, 10),\n",
       "                                        &#x27;n_estimators&#x27;: range(50, 300)},\n",
       "                   verbose=1)</pre></div></div></div><div class=\"sk-parallel\"><div class=\"sk-parallel-item\"><div class=\"sk-item\"><div class=\"sk-label-container\"><div class=\"sk-label sk-toggleable\"><input class=\"sk-toggleable__control sk-hidden--visually\" id=\"sk-estimator-id-5\" type=\"checkbox\" ><label for=\"sk-estimator-id-5\" class=\"sk-toggleable__label sk-toggleable__label-arrow\">estimator: XGBRegressor</label><div class=\"sk-toggleable__content\"><pre>XGBRegressor(base_score=None, booster=None, callbacks=None,\n",
       "             colsample_bylevel=None, colsample_bynode=None,\n",
       "             colsample_bytree=None, early_stopping_rounds=None,\n",
       "             enable_categorical=False, eval_metric=None, feature_types=None,\n",
       "             gamma=None, gpu_id=None, grow_policy=None, importance_type=None,\n",
       "             interaction_constraints=None, learning_rate=None, max_bin=None,\n",
       "             max_cat_threshold=None, max_cat_to_onehot=None,\n",
       "             max_delta_step=None, max_depth=None, max_leaves=None,\n",
       "             min_child_weight=None, missing=nan, monotone_constraints=None,\n",
       "             n_estimators=100, n_jobs=None, num_parallel_tree=None,\n",
       "             predictor=None, random_state=None, ...)</pre></div></div></div><div class=\"sk-serial\"><div class=\"sk-item\"><div class=\"sk-estimator sk-toggleable\"><input class=\"sk-toggleable__control sk-hidden--visually\" id=\"sk-estimator-id-6\" type=\"checkbox\" ><label for=\"sk-estimator-id-6\" class=\"sk-toggleable__label sk-toggleable__label-arrow\">XGBRegressor</label><div class=\"sk-toggleable__content\"><pre>XGBRegressor(base_score=None, booster=None, callbacks=None,\n",
       "             colsample_bylevel=None, colsample_bynode=None,\n",
       "             colsample_bytree=None, early_stopping_rounds=None,\n",
       "             enable_categorical=False, eval_metric=None, feature_types=None,\n",
       "             gamma=None, gpu_id=None, grow_policy=None, importance_type=None,\n",
       "             interaction_constraints=None, learning_rate=None, max_bin=None,\n",
       "             max_cat_threshold=None, max_cat_to_onehot=None,\n",
       "             max_delta_step=None, max_depth=None, max_leaves=None,\n",
       "             min_child_weight=None, missing=nan, monotone_constraints=None,\n",
       "             n_estimators=100, n_jobs=None, num_parallel_tree=None,\n",
       "             predictor=None, random_state=None, ...)</pre></div></div></div></div></div></div></div></div></div></div>"
      ],
      "text/plain": [
       "RandomizedSearchCV(cv=2,\n",
       "                   estimator=XGBRegressor(base_score=None, booster=None,\n",
       "                                          callbacks=None,\n",
       "                                          colsample_bylevel=None,\n",
       "                                          colsample_bynode=None,\n",
       "                                          colsample_bytree=None,\n",
       "                                          early_stopping_rounds=None,\n",
       "                                          enable_categorical=False,\n",
       "                                          eval_metric=None, feature_types=None,\n",
       "                                          gamma=None, gpu_id=None,\n",
       "                                          grow_policy=None,\n",
       "                                          importance_type=None,\n",
       "                                          interaction_constraints=None,\n",
       "                                          learning_rate=...\n",
       "                                          max_delta_step=None, max_depth=None,\n",
       "                                          max_leaves=None,\n",
       "                                          min_child_weight=None, missing=nan,\n",
       "                                          monotone_constraints=None,\n",
       "                                          n_estimators=100, n_jobs=None,\n",
       "                                          num_parallel_tree=None,\n",
       "                                          predictor=None, random_state=None, ...),\n",
       "                   n_jobs=-1,\n",
       "                   param_distributions={'learning_rate': <scipy.stats._distn_infrastructure.rv_frozen object at 0x000001730D509520>,\n",
       "                                        'max_depth': range(3, 10),\n",
       "                                        'n_estimators': range(50, 300)},\n",
       "                   verbose=1)"
      ]
     },
     "execution_count": 33,
     "metadata": {},
     "output_type": "execute_result"
    }
   ],
   "source": [
    "#Train the model\n",
    "rsearch.fit(X_train,y_train)"
   ]
  },
  {
   "cell_type": "markdown",
   "id": "a898fe79",
   "metadata": {
    "papermill": {
     "duration": 0.02027,
     "end_time": "2022-11-18T18:43:07.169574",
     "exception": false,
     "start_time": "2022-11-18T18:43:07.149304",
     "status": "completed"
    },
    "tags": []
   },
   "source": [
    "<div style=\"font-family: Segoe UI; line-height: 2; color: #DE3163; text-align: justify;font-size: 25px\">\n",
    "     <b>Evaluating Model performances</b>\n"
   ]
  },
  {
   "cell_type": "code",
   "execution_count": 34,
   "id": "92d1bcb8",
   "metadata": {
    "execution": {
     "iopub.execute_input": "2022-11-18T18:43:07.214477Z",
     "iopub.status.busy": "2022-11-18T18:43:07.213287Z",
     "iopub.status.idle": "2022-11-18T18:43:07.219830Z",
     "shell.execute_reply": "2022-11-18T18:43:07.218174Z"
    },
    "papermill": {
     "duration": 0.032192,
     "end_time": "2022-11-18T18:43:07.222878",
     "exception": false,
     "start_time": "2022-11-18T18:43:07.190686",
     "status": "completed"
    },
    "tags": []
   },
   "outputs": [
    {
     "name": "stdout",
     "output_type": "stream",
     "text": [
      "RandomizedSearch result \n",
      "\n",
      "Best score \n",
      " 0.9380110588934778\n",
      "Best params \n",
      " {'learning_rate': 0.3614349352755478, 'max_depth': 4, 'n_estimators': 213}\n"
     ]
    }
   ],
   "source": [
    "print(\"RandomizedSearch result \\n\")\n",
    "print(\"Best score \\n\",rsearch.best_score_)\n",
    "print(\"Best params \\n\", rsearch.best_params_)\n"
   ]
  },
  {
   "cell_type": "code",
   "execution_count": 35,
   "id": "22d7b125",
   "metadata": {
    "execution": {
     "iopub.execute_input": "2022-11-18T18:43:07.268452Z",
     "iopub.status.busy": "2022-11-18T18:43:07.267365Z",
     "iopub.status.idle": "2022-11-18T18:43:07.289244Z",
     "shell.execute_reply": "2022-11-18T18:43:07.288354Z"
    },
    "papermill": {
     "duration": 0.046503,
     "end_time": "2022-11-18T18:43:07.291649",
     "exception": false,
     "start_time": "2022-11-18T18:43:07.245146",
     "status": "completed"
    },
    "tags": []
   },
   "outputs": [
    {
     "data": {
      "text/plain": [
       "array([ 642273.6, 1707611.9, 1480383.9, 1305663.1], dtype=float32)"
      ]
     },
     "execution_count": 35,
     "metadata": {},
     "output_type": "execute_result"
    }
   ],
   "source": [
    "#Making the prediction from best model\n",
    "y_pred=rsearch.predict(X_test)\n",
    "y_pred[:4]"
   ]
  },
  {
   "cell_type": "code",
   "execution_count": 36,
   "id": "e3d633a2",
   "metadata": {
    "execution": {
     "iopub.execute_input": "2022-11-18T18:43:07.337340Z",
     "iopub.status.busy": "2022-11-18T18:43:07.336919Z",
     "iopub.status.idle": "2022-11-18T18:43:07.347345Z",
     "shell.execute_reply": "2022-11-18T18:43:07.345843Z"
    },
    "papermill": {
     "duration": 0.035319,
     "end_time": "2022-11-18T18:43:07.350221",
     "exception": false,
     "start_time": "2022-11-18T18:43:07.314902",
     "status": "completed"
    },
    "tags": []
   },
   "outputs": [
    {
     "name": "stdout",
     "output_type": "stream",
     "text": [
      "MSE error: \n",
      " 12587511473.037342\n",
      "Mean absolute error: \n",
      " 68755.97391248058\n",
      "Explained _variance: \n",
      " 0.9596770797956103\n",
      "r2 score: \n",
      " 0.9596233140162577\n"
     ]
    }
   ],
   "source": [
    "print(\"MSE error: \\n\",mean_squared_error(y_test,y_pred))\n",
    "print(\"Mean absolute error: \\n\",mean_absolute_error(y_test,y_pred))\n",
    "print(\"Explained _variance: \\n\", explained_variance_score(y_test,y_pred))\n",
    "print(\"r2 score: \\n\", r2_score(y_test,y_pred))"
   ]
  },
  {
   "cell_type": "markdown",
   "id": "a5def423",
   "metadata": {
    "papermill": {
     "duration": 0.020541,
     "end_time": "2022-11-18T18:43:07.392294",
     "exception": false,
     "start_time": "2022-11-18T18:43:07.371753",
     "status": "completed"
    },
    "tags": []
   },
   "source": [
    "### <div style=\"text-align: left; background-color:#CFD9F1 ; font-family: Trebuchet MS; color: #0A3399; padding: 15px; line-height:1;border-radius:1px; margin-bottom: 0em; text-align: center; font-size: 25px\">BayesSearchCV</div>"
   ]
  },
  {
   "cell_type": "code",
   "execution_count": 37,
   "id": "05802e28",
   "metadata": {
    "execution": {
     "iopub.execute_input": "2022-11-18T18:43:07.435562Z",
     "iopub.status.busy": "2022-11-18T18:43:07.435127Z",
     "iopub.status.idle": "2022-11-18T18:43:07.448173Z",
     "shell.execute_reply": "2022-11-18T18:43:07.446963Z"
    },
    "papermill": {
     "duration": 0.037589,
     "end_time": "2022-11-18T18:43:07.450462",
     "exception": false,
     "start_time": "2022-11-18T18:43:07.412873",
     "status": "completed"
    },
    "tags": []
   },
   "outputs": [],
   "source": [
    "#parameter tuning \n",
    "bparams={'max_depth':Integer(2,7),\n",
    "         'learning_rate':Real(0.01, 0.1,prior='log-uniform'),\n",
    "          'alpha':Real(1e-5,100,prior='log-uniform'),\n",
    "          'gamma':Real(1e-9, 0.5,prior='log-uniform'),\n",
    "         'n_estimators':Integer(50,100)}"
   ]
  },
  {
   "cell_type": "code",
   "execution_count": 38,
   "id": "84bf69ba",
   "metadata": {
    "execution": {
     "iopub.execute_input": "2022-11-18T18:43:07.494611Z",
     "iopub.status.busy": "2022-11-18T18:43:07.494211Z",
     "iopub.status.idle": "2022-11-18T18:43:07.499804Z",
     "shell.execute_reply": "2022-11-18T18:43:07.498374Z"
    },
    "papermill": {
     "duration": 0.030564,
     "end_time": "2022-11-18T18:43:07.502345",
     "exception": false,
     "start_time": "2022-11-18T18:43:07.471781",
     "status": "completed"
    },
    "tags": []
   },
   "outputs": [],
   "source": [
    "#object initilization \n",
    "bsearch=BayesSearchCV(estimator=xgmodel,\n",
    "                      search_spaces=bparams,\n",
    "                       cv=2,\n",
    "                       verbose=1\n",
    "                      )"
   ]
  },
  {
   "cell_type": "code",
   "execution_count": 39,
   "id": "6639756c",
   "metadata": {
    "execution": {
     "iopub.execute_input": "2022-11-18T18:43:07.546843Z",
     "iopub.status.busy": "2022-11-18T18:43:07.546467Z",
     "iopub.status.idle": "2022-11-18T18:45:55.159551Z",
     "shell.execute_reply": "2022-11-18T18:45:55.158540Z"
    },
    "papermill": {
     "duration": 167.638962,
     "end_time": "2022-11-18T18:45:55.162700",
     "exception": false,
     "start_time": "2022-11-18T18:43:07.523738",
     "status": "completed"
    },
    "tags": []
   },
   "outputs": [
    {
     "name": "stdout",
     "output_type": "stream",
     "text": [
      "Fitting 2 folds for each of 1 candidates, totalling 2 fits\n",
      "Fitting 2 folds for each of 1 candidates, totalling 2 fits\n",
      "Fitting 2 folds for each of 1 candidates, totalling 2 fits\n",
      "Fitting 2 folds for each of 1 candidates, totalling 2 fits\n",
      "Fitting 2 folds for each of 1 candidates, totalling 2 fits\n",
      "Fitting 2 folds for each of 1 candidates, totalling 2 fits\n",
      "Fitting 2 folds for each of 1 candidates, totalling 2 fits\n",
      "Fitting 2 folds for each of 1 candidates, totalling 2 fits\n",
      "Fitting 2 folds for each of 1 candidates, totalling 2 fits\n",
      "Fitting 2 folds for each of 1 candidates, totalling 2 fits\n",
      "Fitting 2 folds for each of 1 candidates, totalling 2 fits\n",
      "Fitting 2 folds for each of 1 candidates, totalling 2 fits\n",
      "Fitting 2 folds for each of 1 candidates, totalling 2 fits\n",
      "Fitting 2 folds for each of 1 candidates, totalling 2 fits\n",
      "Fitting 2 folds for each of 1 candidates, totalling 2 fits\n",
      "Fitting 2 folds for each of 1 candidates, totalling 2 fits\n",
      "Fitting 2 folds for each of 1 candidates, totalling 2 fits\n",
      "Fitting 2 folds for each of 1 candidates, totalling 2 fits\n",
      "Fitting 2 folds for each of 1 candidates, totalling 2 fits\n",
      "Fitting 2 folds for each of 1 candidates, totalling 2 fits\n",
      "Fitting 2 folds for each of 1 candidates, totalling 2 fits\n",
      "Fitting 2 folds for each of 1 candidates, totalling 2 fits\n",
      "Fitting 2 folds for each of 1 candidates, totalling 2 fits\n",
      "Fitting 2 folds for each of 1 candidates, totalling 2 fits\n",
      "Fitting 2 folds for each of 1 candidates, totalling 2 fits\n",
      "Fitting 2 folds for each of 1 candidates, totalling 2 fits\n",
      "Fitting 2 folds for each of 1 candidates, totalling 2 fits\n",
      "Fitting 2 folds for each of 1 candidates, totalling 2 fits\n",
      "Fitting 2 folds for each of 1 candidates, totalling 2 fits\n",
      "Fitting 2 folds for each of 1 candidates, totalling 2 fits\n",
      "Fitting 2 folds for each of 1 candidates, totalling 2 fits\n",
      "Fitting 2 folds for each of 1 candidates, totalling 2 fits\n",
      "Fitting 2 folds for each of 1 candidates, totalling 2 fits\n",
      "Fitting 2 folds for each of 1 candidates, totalling 2 fits\n",
      "Fitting 2 folds for each of 1 candidates, totalling 2 fits\n",
      "Fitting 2 folds for each of 1 candidates, totalling 2 fits\n",
      "Fitting 2 folds for each of 1 candidates, totalling 2 fits\n",
      "Fitting 2 folds for each of 1 candidates, totalling 2 fits\n",
      "Fitting 2 folds for each of 1 candidates, totalling 2 fits\n",
      "Fitting 2 folds for each of 1 candidates, totalling 2 fits\n",
      "Fitting 2 folds for each of 1 candidates, totalling 2 fits\n",
      "Fitting 2 folds for each of 1 candidates, totalling 2 fits\n",
      "Fitting 2 folds for each of 1 candidates, totalling 2 fits\n",
      "Fitting 2 folds for each of 1 candidates, totalling 2 fits\n",
      "Fitting 2 folds for each of 1 candidates, totalling 2 fits\n",
      "Fitting 2 folds for each of 1 candidates, totalling 2 fits\n",
      "Fitting 2 folds for each of 1 candidates, totalling 2 fits\n",
      "Fitting 2 folds for each of 1 candidates, totalling 2 fits\n",
      "Fitting 2 folds for each of 1 candidates, totalling 2 fits\n",
      "Fitting 2 folds for each of 1 candidates, totalling 2 fits\n"
     ]
    }
   ],
   "source": [
    "#training the model\n",
    "bsearch.fit(X_train,y_train);"
   ]
  },
  {
   "cell_type": "markdown",
   "id": "b814555c",
   "metadata": {
    "papermill": {
     "duration": 0.023995,
     "end_time": "2022-11-18T18:45:55.213339",
     "exception": false,
     "start_time": "2022-11-18T18:45:55.189344",
     "status": "completed"
    },
    "tags": []
   },
   "source": [
    "<div style=\"font-family: Segoe UI; line-height: 2; color: #DE3163; text-align: justify;font-size: 25px\">\n",
    "     <b>Evaluating Model performance</b>\n"
   ]
  },
  {
   "cell_type": "code",
   "execution_count": 40,
   "id": "2e0a97a2",
   "metadata": {
    "execution": {
     "iopub.execute_input": "2022-11-18T18:45:55.265202Z",
     "iopub.status.busy": "2022-11-18T18:45:55.264573Z",
     "iopub.status.idle": "2022-11-18T18:45:55.270297Z",
     "shell.execute_reply": "2022-11-18T18:45:55.268944Z"
    },
    "papermill": {
     "duration": 0.035298,
     "end_time": "2022-11-18T18:45:55.273552",
     "exception": false,
     "start_time": "2022-11-18T18:45:55.238254",
     "status": "completed"
    },
    "tags": []
   },
   "outputs": [
    {
     "name": "stdout",
     "output_type": "stream",
     "text": [
      "BayesSearch result \n",
      "\n",
      "Best score \n",
      " 0.9300115141887505\n",
      "Best params \n",
      " OrderedDict([('alpha', 100.0), ('gamma', 0.49999999999999994), ('learning_rate', 0.1), ('max_depth', 6), ('n_estimators', 100)])\n"
     ]
    }
   ],
   "source": [
    "#Checking the model score\n",
    "print(\"BayesSearch result \\n\")\n",
    "print(\"Best score \\n\",bsearch.best_score_)\n",
    "print(\"Best params \\n\", bsearch.best_params_)\n"
   ]
  },
  {
   "cell_type": "code",
   "execution_count": 41,
   "id": "66c7c7cc",
   "metadata": {
    "execution": {
     "iopub.execute_input": "2022-11-18T18:45:55.326783Z",
     "iopub.status.busy": "2022-11-18T18:45:55.325975Z",
     "iopub.status.idle": "2022-11-18T18:45:55.345302Z",
     "shell.execute_reply": "2022-11-18T18:45:55.344120Z"
    },
    "papermill": {
     "duration": 0.049424,
     "end_time": "2022-11-18T18:45:55.348322",
     "exception": false,
     "start_time": "2022-11-18T18:45:55.298898",
     "status": "completed"
    },
    "tags": []
   },
   "outputs": [
    {
     "data": {
      "text/plain": [
       "array([ 603090.56, 1871126.  , 1496067.4 , ..., 1322450.5 , 1321269.6 ,\n",
       "       1377419.4 ], dtype=float32)"
      ]
     },
     "execution_count": 41,
     "metadata": {},
     "output_type": "execute_result"
    }
   ],
   "source": [
    "#predicting the model\n",
    "bpred=bsearch.predict(X_test)\n",
    "bpred"
   ]
  },
  {
   "cell_type": "code",
   "execution_count": 42,
   "id": "def1a584",
   "metadata": {
    "execution": {
     "iopub.execute_input": "2022-11-18T18:45:55.401823Z",
     "iopub.status.busy": "2022-11-18T18:45:55.401389Z",
     "iopub.status.idle": "2022-11-18T18:45:55.412191Z",
     "shell.execute_reply": "2022-11-18T18:45:55.410876Z"
    },
    "papermill": {
     "duration": 0.03944,
     "end_time": "2022-11-18T18:45:55.414706",
     "exception": false,
     "start_time": "2022-11-18T18:45:55.375266",
     "status": "completed"
    },
    "tags": []
   },
   "outputs": [
    {
     "name": "stdout",
     "output_type": "stream",
     "text": [
      "BayesSearch error score \n",
      "\n",
      "MSE error : 15445173187.556818\n",
      "\n",
      " mean absolute error: 75334.00641668825\n",
      " \n",
      " R2 score  0.9468617296533217\n",
      "\n",
      " explained variance 0.9469038118753855\n"
     ]
    }
   ],
   "source": [
    "#model performance score\n",
    "print(\"BayesSearch error score \\n\")\n",
    "print(\"MSE error :\", mean_squared_error(bpred,y_test))\n",
    "print(\"\\n mean absolute error:\", mean_absolute_error(bpred, y_test))\n",
    "print(\" \\n R2 score \", r2_score(bpred,y_test))\n",
    "print(\"\\n explained variance\", explained_variance_score(bpred,y_test))"
   ]
  },
  {
   "cell_type": "markdown",
   "id": "754fea7a",
   "metadata": {
    "papermill": {
     "duration": 0.024279,
     "end_time": "2022-11-18T18:45:55.463500",
     "exception": false,
     "start_time": "2022-11-18T18:45:55.439221",
     "status": "completed"
    },
    "tags": []
   },
   "source": [
    "<div style=\"font-family: Segoe UI; line-height: 2; color: #DE3163; text-align: justify;font-size: 25px\">\n",
    "     <b>Identified Bes performance ML Model</b>\n"
   ]
  },
  {
   "cell_type": "markdown",
   "id": "fb94d22e",
   "metadata": {
    "papermill": {
     "duration": 0.02468,
     "end_time": "2022-11-18T18:45:55.512875",
     "exception": false,
     "start_time": "2022-11-18T18:45:55.488195",
     "status": "completed"
    },
    "tags": []
   },
   "source": [
    "* GridSearchCV: 94%\n",
    "* RandomizedSearchCV: 96%\n",
    "* BayesSearch: 94%\n",
    "\n",
    "After evaluating the GridSearchCV, RandomizedSearchCV and BayesSearch performances.\n",
    "Seen the RandomizedSearchCV gave the best performance 96%"
   ]
  },
  {
   "cell_type": "markdown",
   "id": "f0feb6fb",
   "metadata": {
    "papermill": {
     "duration": 0.024083,
     "end_time": "2022-11-18T18:45:55.563175",
     "exception": false,
     "start_time": "2022-11-18T18:45:55.539092",
     "status": "completed"
    },
    "tags": []
   },
   "source": [
    "<div style=\"font-family: Segoe UI; line-height: 2; color: #BA90945; text-align: justify;font-size: 25px\">\n",
    "     <b>Implementing LightGBM</b>"
   ]
  },
  {
   "cell_type": "markdown",
   "id": "4c581a48",
   "metadata": {
    "papermill": {
     "duration": 0.026056,
     "end_time": "2022-11-18T18:45:55.614204",
     "exception": false,
     "start_time": "2022-11-18T18:45:55.588148",
     "status": "completed"
    },
    "tags": []
   },
   "source": [
    "LightGBM is a gradient boosting framework based on decision trees to increases the efficiency of the model and reduces memory usage. "
   ]
  },
  {
   "cell_type": "code",
   "execution_count": 43,
   "id": "1477405e",
   "metadata": {
    "execution": {
     "iopub.execute_input": "2022-11-18T18:45:55.667741Z",
     "iopub.status.busy": "2022-11-18T18:45:55.667358Z",
     "iopub.status.idle": "2022-11-18T18:45:55.672716Z",
     "shell.execute_reply": "2022-11-18T18:45:55.671525Z"
    },
    "papermill": {
     "duration": 0.035285,
     "end_time": "2022-11-18T18:45:55.675190",
     "exception": false,
     "start_time": "2022-11-18T18:45:55.639905",
     "status": "completed"
    },
    "tags": []
   },
   "outputs": [],
   "source": [
    "lgbr=LGBMRegressor()"
   ]
  },
  {
   "cell_type": "code",
   "execution_count": 44,
   "id": "bdec18e5",
   "metadata": {
    "execution": {
     "iopub.execute_input": "2022-11-18T18:45:55.726403Z",
     "iopub.status.busy": "2022-11-18T18:45:55.725607Z",
     "iopub.status.idle": "2022-11-18T18:45:55.912690Z",
     "shell.execute_reply": "2022-11-18T18:45:55.911718Z"
    },
    "papermill": {
     "duration": 0.215317,
     "end_time": "2022-11-18T18:45:55.915110",
     "exception": false,
     "start_time": "2022-11-18T18:45:55.699793",
     "status": "completed"
    },
    "tags": []
   },
   "outputs": [
    {
     "data": {
      "text/html": [
       "<style>#sk-container-id-3 {color: black;background-color: white;}#sk-container-id-3 pre{padding: 0;}#sk-container-id-3 div.sk-toggleable {background-color: white;}#sk-container-id-3 label.sk-toggleable__label {cursor: pointer;display: block;width: 100%;margin-bottom: 0;padding: 0.3em;box-sizing: border-box;text-align: center;}#sk-container-id-3 label.sk-toggleable__label-arrow:before {content: \"▸\";float: left;margin-right: 0.25em;color: #696969;}#sk-container-id-3 label.sk-toggleable__label-arrow:hover:before {color: black;}#sk-container-id-3 div.sk-estimator:hover label.sk-toggleable__label-arrow:before {color: black;}#sk-container-id-3 div.sk-toggleable__content {max-height: 0;max-width: 0;overflow: hidden;text-align: left;background-color: #f0f8ff;}#sk-container-id-3 div.sk-toggleable__content pre {margin: 0.2em;color: black;border-radius: 0.25em;background-color: #f0f8ff;}#sk-container-id-3 input.sk-toggleable__control:checked~div.sk-toggleable__content {max-height: 200px;max-width: 100%;overflow: auto;}#sk-container-id-3 input.sk-toggleable__control:checked~label.sk-toggleable__label-arrow:before {content: \"▾\";}#sk-container-id-3 div.sk-estimator input.sk-toggleable__control:checked~label.sk-toggleable__label {background-color: #d4ebff;}#sk-container-id-3 div.sk-label input.sk-toggleable__control:checked~label.sk-toggleable__label {background-color: #d4ebff;}#sk-container-id-3 input.sk-hidden--visually {border: 0;clip: rect(1px 1px 1px 1px);clip: rect(1px, 1px, 1px, 1px);height: 1px;margin: -1px;overflow: hidden;padding: 0;position: absolute;width: 1px;}#sk-container-id-3 div.sk-estimator {font-family: monospace;background-color: #f0f8ff;border: 1px dotted black;border-radius: 0.25em;box-sizing: border-box;margin-bottom: 0.5em;}#sk-container-id-3 div.sk-estimator:hover {background-color: #d4ebff;}#sk-container-id-3 div.sk-parallel-item::after {content: \"\";width: 100%;border-bottom: 1px solid gray;flex-grow: 1;}#sk-container-id-3 div.sk-label:hover label.sk-toggleable__label {background-color: #d4ebff;}#sk-container-id-3 div.sk-serial::before {content: \"\";position: absolute;border-left: 1px solid gray;box-sizing: border-box;top: 0;bottom: 0;left: 50%;z-index: 0;}#sk-container-id-3 div.sk-serial {display: flex;flex-direction: column;align-items: center;background-color: white;padding-right: 0.2em;padding-left: 0.2em;position: relative;}#sk-container-id-3 div.sk-item {position: relative;z-index: 1;}#sk-container-id-3 div.sk-parallel {display: flex;align-items: stretch;justify-content: center;background-color: white;position: relative;}#sk-container-id-3 div.sk-item::before, #sk-container-id-3 div.sk-parallel-item::before {content: \"\";position: absolute;border-left: 1px solid gray;box-sizing: border-box;top: 0;bottom: 0;left: 50%;z-index: -1;}#sk-container-id-3 div.sk-parallel-item {display: flex;flex-direction: column;z-index: 1;position: relative;background-color: white;}#sk-container-id-3 div.sk-parallel-item:first-child::after {align-self: flex-end;width: 50%;}#sk-container-id-3 div.sk-parallel-item:last-child::after {align-self: flex-start;width: 50%;}#sk-container-id-3 div.sk-parallel-item:only-child::after {width: 0;}#sk-container-id-3 div.sk-dashed-wrapped {border: 1px dashed gray;margin: 0 0.4em 0.5em 0.4em;box-sizing: border-box;padding-bottom: 0.4em;background-color: white;}#sk-container-id-3 div.sk-label label {font-family: monospace;font-weight: bold;display: inline-block;line-height: 1.2em;}#sk-container-id-3 div.sk-label-container {text-align: center;}#sk-container-id-3 div.sk-container {/* jupyter's `normalize.less` sets `[hidden] { display: none; }` but bootstrap.min.css set `[hidden] { display: none !important; }` so we also need the `!important` here to be able to override the default hidden behavior on the sphinx rendered scikit-learn.org. See: https://github.com/scikit-learn/scikit-learn/issues/21755 */display: inline-block !important;position: relative;}#sk-container-id-3 div.sk-text-repr-fallback {display: none;}</style><div id=\"sk-container-id-3\" class=\"sk-top-container\"><div class=\"sk-text-repr-fallback\"><pre>LGBMRegressor()</pre><b>In a Jupyter environment, please rerun this cell to show the HTML representation or trust the notebook. <br />On GitHub, the HTML representation is unable to render, please try loading this page with nbviewer.org.</b></div><div class=\"sk-container\" hidden><div class=\"sk-item\"><div class=\"sk-estimator sk-toggleable\"><input class=\"sk-toggleable__control sk-hidden--visually\" id=\"sk-estimator-id-7\" type=\"checkbox\" checked><label for=\"sk-estimator-id-7\" class=\"sk-toggleable__label sk-toggleable__label-arrow\">LGBMRegressor</label><div class=\"sk-toggleable__content\"><pre>LGBMRegressor()</pre></div></div></div></div></div>"
      ],
      "text/plain": [
       "LGBMRegressor()"
      ]
     },
     "execution_count": 44,
     "metadata": {},
     "output_type": "execute_result"
    }
   ],
   "source": [
    "lgbr.fit(X_train,y_train)"
   ]
  },
  {
   "cell_type": "code",
   "execution_count": 45,
   "id": "4bfb133b",
   "metadata": {
    "execution": {
     "iopub.execute_input": "2022-11-18T18:45:55.967728Z",
     "iopub.status.busy": "2022-11-18T18:45:55.967253Z",
     "iopub.status.idle": "2022-11-18T18:45:56.000208Z",
     "shell.execute_reply": "2022-11-18T18:45:55.998695Z"
    },
    "papermill": {
     "duration": 0.061395,
     "end_time": "2022-11-18T18:45:56.002789",
     "exception": false,
     "start_time": "2022-11-18T18:45:55.941394",
     "status": "completed"
    },
    "tags": []
   },
   "outputs": [
    {
     "name": "stdout",
     "output_type": "stream",
     "text": [
      "Training Accuracy score:\n",
      " 0.9682896902079033\n",
      "Testing Accuracy score:\n",
      " 0.9509172950920987\n"
     ]
    }
   ],
   "source": [
    "print(\"Training Accuracy score:\\n\",lgbr.score(X_train,y_train))\n",
    "print(\"Testing Accuracy score:\\n\",lgbr.score(X_test, y_test))"
   ]
  },
  {
   "cell_type": "code",
   "execution_count": 46,
   "id": "ca2f55ca",
   "metadata": {
    "execution": {
     "iopub.execute_input": "2022-11-18T18:45:56.058144Z",
     "iopub.status.busy": "2022-11-18T18:45:56.057714Z",
     "iopub.status.idle": "2022-11-18T18:45:56.072263Z",
     "shell.execute_reply": "2022-11-18T18:45:56.071248Z"
    },
    "papermill": {
     "duration": 0.044704,
     "end_time": "2022-11-18T18:45:56.074870",
     "exception": false,
     "start_time": "2022-11-18T18:45:56.030166",
     "status": "completed"
    },
    "tags": []
   },
   "outputs": [],
   "source": [
    "pred=lgbr.predict(X_test)"
   ]
  },
  {
   "cell_type": "code",
   "execution_count": 47,
   "id": "9c9aa880",
   "metadata": {
    "execution": {
     "iopub.execute_input": "2022-11-18T18:45:56.132928Z",
     "iopub.status.busy": "2022-11-18T18:45:56.132515Z",
     "iopub.status.idle": "2022-11-18T18:45:56.140744Z",
     "shell.execute_reply": "2022-11-18T18:45:56.139501Z"
    },
    "papermill": {
     "duration": 0.038495,
     "end_time": "2022-11-18T18:45:56.143124",
     "exception": false,
     "start_time": "2022-11-18T18:45:56.104629",
     "status": "completed"
    },
    "tags": []
   },
   "outputs": [
    {
     "name": "stdout",
     "output_type": "stream",
     "text": [
      "Explained variance score:\n",
      " 0.9510036456015857\n",
      "MSE error: \n",
      " 15301630039.7879\n"
     ]
    }
   ],
   "source": [
    "print(\"Explained variance score:\\n\",explained_variance_score(y_test,pred))\n",
    "print(\"MSE error: \\n\",mean_squared_error(y_test,pred))"
   ]
  },
  {
   "cell_type": "code",
   "execution_count": 48,
   "id": "3449f401",
   "metadata": {
    "execution": {
     "iopub.execute_input": "2022-11-18T18:45:56.194806Z",
     "iopub.status.busy": "2022-11-18T18:45:56.194377Z",
     "iopub.status.idle": "2022-11-18T18:45:56.529172Z",
     "shell.execute_reply": "2022-11-18T18:45:56.528226Z"
    },
    "papermill": {
     "duration": 0.364085,
     "end_time": "2022-11-18T18:45:56.532053",
     "exception": false,
     "start_time": "2022-11-18T18:45:56.167968",
     "status": "completed"
    },
    "tags": []
   },
   "outputs": [
    {
     "data": {
      "image/png": "[encoded data removed]",
      "text/plain": [
       "<Figure size 864x432 with 1 Axes>"
      ]
     },
     "metadata": {
      "needs_background": "light"
     },
     "output_type": "display_data"
    }
   ],
   "source": [
    "# visualizing in a plot\n",
    "x_ax = range(len(y_test))\n",
    "plt.figure(figsize=(12, 6))\n",
    "plt.plot(x_ax, y_test, label=\"original\")\n",
    "plt.plot(x_ax, pred, label=\"predicted\")\n",
    "plt.title(\"Walmart dataset test and predicted data\")\n",
    "plt.xlabel('X')\n",
    "plt.ylabel('Price')\n",
    "plt.legend(loc='best',fancybox=True, shadow=True)\n",
    "plt.grid(True)\n",
    "plt.show() "
   ]
  },
  {
   "cell_type": "code",
   "execution_count": 49,
   "id": "729ddb72",
   "metadata": {
    "execution": {
     "iopub.execute_input": "2022-11-18T18:45:56.590145Z",
     "iopub.status.busy": "2022-11-18T18:45:56.589696Z",
     "iopub.status.idle": "2022-11-18T18:45:56.824907Z",
     "shell.execute_reply": "2022-11-18T18:45:56.823653Z"
    },
    "papermill": {
     "duration": 0.267122,
     "end_time": "2022-11-18T18:45:56.827642",
     "exception": false,
     "start_time": "2022-11-18T18:45:56.560520",
     "status": "completed"
    },
    "tags": []
   },
   "outputs": [
    {
     "data": {
      "image/png": "[encoded data removed]",
      "text/plain": [
       "<Figure size 432x288 with 1 Axes>"
      ]
     },
     "metadata": {
      "needs_background": "light"
     },
     "output_type": "display_data"
    }
   ],
   "source": [
    "lgb.plot_importance(lgbr);"
   ]
  },
  {
   "cell_type": "markdown",
   "id": "92b4eedd",
   "metadata": {
    "papermill": {
     "duration": 0.02668,
     "end_time": "2022-11-18T18:45:56.882879",
     "exception": false,
     "start_time": "2022-11-18T18:45:56.856199",
     "status": "completed"
    },
    "tags": []
   },
   "source": [
    "<div style=\"font-family: Segoe UI; line-height: 2; color: #AB4169; text-align: justify;font-size: 25px\">\n",
    "     <b>Bayes Search Optimization</b>"
   ]
  },
  {
   "cell_type": "code",
   "execution_count": 50,
   "id": "861f8200",
   "metadata": {
    "execution": {
     "iopub.execute_input": "2022-11-18T18:45:56.940727Z",
     "iopub.status.busy": "2022-11-18T18:45:56.940108Z",
     "iopub.status.idle": "2022-11-18T18:45:56.944561Z",
     "shell.execute_reply": "2022-11-18T18:45:56.943629Z"
    },
    "papermill": {
     "duration": 0.03642,
     "end_time": "2022-11-18T18:45:56.946711",
     "exception": false,
     "start_time": "2022-11-18T18:45:56.910291",
     "status": "completed"
    },
    "tags": []
   },
   "outputs": [],
   "source": [
    "#Define the lgbm object\n",
    "gbm=LGBMRegressor(force_col_wise=True,\n",
    "                            n_jobs=2,\n",
    "                            verbose=0,)"
   ]
  },
  {
   "cell_type": "code",
   "execution_count": 51,
   "id": "87df7d48",
   "metadata": {
    "execution": {
     "iopub.execute_input": "2022-11-18T18:45:57.003433Z",
     "iopub.status.busy": "2022-11-18T18:45:57.002583Z",
     "iopub.status.idle": "2022-11-18T18:45:57.025481Z",
     "shell.execute_reply": "2022-11-18T18:45:57.024169Z"
    },
    "papermill": {
     "duration": 0.054158,
     "end_time": "2022-11-18T18:45:57.028283",
     "exception": false,
     "start_time": "2022-11-18T18:45:56.974125",
     "status": "completed"
    },
    "tags": []
   },
   "outputs": [],
   "source": [
    "#Define the parameters \n",
    "params = {\n",
    "        'boosting'    :   Categorical(['gbdt','dart']),                                                         \n",
    "        'n_estimators':   Integer(50, 100), # No of boosted trees or iterations to fit (default: 100).\n",
    "\n",
    "        'num_leaves'  :   Integer(5,45),   # Max tree leaves for base boosters\n",
    "                                           # Create a node only if no of leaves exceed this limit\n",
    "                                           #  and also following condition of 'min_child_samples' is met\n",
    "\n",
    "        'min_child_samples': Integer(1, 50),  # Create a node only if min data-points at this node\n",
    "                                              #  exceed this limit\n",
    "\n",
    "        'feature_fraction' : Real(0.1, 0.9),  # Randomly select part of features on each iteration\n",
    "                                              #  for every boosted tree\n",
    "\n",
    "        'bagging_fraction' : Real(0.8, 1),   # Randomly select part of data without resampling\n",
    "                                             #   for each boosted tree\n",
    "\n",
    "        'bagging_freq'     : Integer(1,10),  # k means perform bagging at every k iteration\n",
    "\n",
    "        'max_depth'        : Integer(1, 50), # Max tree depth for base learners, -1 means no limit.\n",
    "\n",
    "        'learning_rate': Real(0.01, 1.0, 'log-uniform'), # Prob of interval 1 to 10 is same as 10 to 100\n",
    "                                                         # Equal prob of selection from 0.01 to 0.1, 0.1\n",
    "                                                         # to 1\n",
    "                                                         # In a loguniform distributon, log-transformed\n",
    "                                                         # random variable is uniformly distributed\n",
    "\n",
    "        'reg_lambda': Real(1e-9, 1000, 'log-uniform'),  # L2 regularization term on weights.\n",
    "        'reg_alpha':  Real(1e-9, 1.0, 'log-uniform'),   #  L1 regularization\n",
    "\n",
    "        'scale_pos_weight': Real(1, 10),       # default: 1\n",
    "                                               # used only in binary application\n",
    "                                               # How much more importance should be given to binary\n",
    "                                               # weight of labels with positive class\n",
    "\n",
    "\n",
    "        'max_bin': Integer(100, 1000),        \n",
    "\n",
    "        'min_child_weight':  Real(1, 10),     # Deals with overfitting\n",
    "\n",
    "        'subsample_for_bin': Integer(100000, 500000)  #  Number of samples for constructing bins(default: 200000)\n",
    "                                               # setting this to larger value will give better training\n",
    "                                               #  result, but will increase data loading time\n",
    "           }"
   ]
  },
  {
   "cell_type": "code",
   "execution_count": 52,
   "id": "6c6ba6aa",
   "metadata": {
    "execution": {
     "iopub.execute_input": "2022-11-18T18:45:57.085735Z",
     "iopub.status.busy": "2022-11-18T18:45:57.085344Z",
     "iopub.status.idle": "2022-11-18T18:45:57.092368Z",
     "shell.execute_reply": "2022-11-18T18:45:57.091304Z"
    },
    "papermill": {
     "duration": 0.039462,
     "end_time": "2022-11-18T18:45:57.094606",
     "exception": false,
     "start_time": "2022-11-18T18:45:57.055144",
     "status": "completed"
    },
    "tags": []
   },
   "outputs": [],
   "source": [
    "bayes_tune = BayesSearchCV(\n",
    "                              estimator = gbm,    # rf, lgb, xgb, nn , pipeline etc--Black box\n",
    "                              search_spaces = params,  # Specify params as required by the estimator\n",
    "                              #scoring = 'roc_auc',  # Input to Bayes function\n",
    "                                                    # modeler should return this\n",
    "                                                    # peformence metric\n",
    "                              #cv = cvStrategy,      # Optional. Determines the cross-validation splitting strategy.\n",
    "                                                    #           Can be cross-validation generator or an iterable,\n",
    "                                                    #           Possible inputs for cv are: - None, to use the default 3-fold cv,\n",
    "                                                    #           - integer, to specify the number of folds in a (Stratified)KFold,\n",
    "                                                    #           - An object to be used as a cross-validation generator.\n",
    "                              n_jobs = 2,           # Start two parallel threads for processing\n",
    "                              n_iter = 50,        # How many times to look for parameter sets\n",
    "                              verbose = 1,\n",
    "                              refit = True,       #  Refit the best estimator with the entire dataset\n",
    "                              random_state = 42\n",
    "                               )"
   ]
  },
  {
   "cell_type": "code",
   "execution_count": 53,
   "id": "e8bfb30c",
   "metadata": {
    "execution": {
     "iopub.execute_input": "2022-11-18T18:45:57.149901Z",
     "iopub.status.busy": "2022-11-18T18:45:57.148809Z",
     "iopub.status.idle": "2022-11-18T18:45:57.154416Z",
     "shell.execute_reply": "2022-11-18T18:45:57.153576Z"
    },
    "papermill": {
     "duration": 0.035334,
     "end_time": "2022-11-18T18:45:57.156544",
     "exception": false,
     "start_time": "2022-11-18T18:45:57.121210",
     "status": "completed"
    },
    "tags": []
   },
   "outputs": [],
   "source": [
    "from sklearn.model_selection import KFold\n",
    "kfold = KFold(n_splits=5, shuffle=True, random_state=42)"
   ]
  },
  {
   "cell_type": "code",
   "execution_count": 54,
   "id": "eb54dba5",
   "metadata": {
    "execution": {
     "iopub.execute_input": "2022-11-18T18:45:57.211988Z",
     "iopub.status.busy": "2022-11-18T18:45:57.210807Z",
     "iopub.status.idle": "2022-11-18T18:45:57.217005Z",
     "shell.execute_reply": "2022-11-18T18:45:57.215918Z"
    },
    "papermill": {
     "duration": 0.036131,
     "end_time": "2022-11-18T18:45:57.219300",
     "exception": false,
     "start_time": "2022-11-18T18:45:57.183169",
     "status": "completed"
    },
    "tags": []
   },
   "outputs": [],
   "source": [
    "bayes_tune=BayesSearchCV(estimator = gbm,    # rf, lgb, xgb, nn , pipeline etc--Black box\n",
    "                         search_spaces = params,  # Specify params as required by the estimator\n",
    "                              cv = kfold,      \n",
    "                              n_jobs = 2,           # Start two parallel threads for processing\n",
    "                              n_iter = 30,        # How many times to look for parameter sets\n",
    "                              verbose = 1,\n",
    "                              refit = True,       #  Refit the best estimator with the entire dataset\n",
    "                              random_state = 42\n",
    "                      )"
   ]
  },
  {
   "cell_type": "code",
   "execution_count": 55,
   "id": "9055d63c",
   "metadata": {
    "execution": {
     "iopub.execute_input": "2022-11-18T18:45:57.274471Z",
     "iopub.status.busy": "2022-11-18T18:45:57.274087Z",
     "iopub.status.idle": "2022-11-18T18:47:31.363843Z",
     "shell.execute_reply": "2022-11-18T18:47:31.362631Z"
    },
    "papermill": {
     "duration": 94.120888,
     "end_time": "2022-11-18T18:47:31.366535",
     "exception": false,
     "start_time": "2022-11-18T18:45:57.245647",
     "status": "completed"
    },
    "tags": []
   },
   "outputs": [
    {
     "name": "stdout",
     "output_type": "stream",
     "text": [
      "Fitting 5 folds for each of 1 candidates, totalling 5 fits\n",
      "Fitting 5 folds for each of 1 candidates, totalling 5 fits\n",
      "Fitting 5 folds for each of 1 candidates, totalling 5 fits\n",
      "Fitting 5 folds for each of 1 candidates, totalling 5 fits\n",
      "Fitting 5 folds for each of 1 candidates, totalling 5 fits\n",
      "Fitting 5 folds for each of 1 candidates, totalling 5 fits\n",
      "Fitting 5 folds for each of 1 candidates, totalling 5 fits\n",
      "Fitting 5 folds for each of 1 candidates, totalling 5 fits\n",
      "Fitting 5 folds for each of 1 candidates, totalling 5 fits\n",
      "Fitting 5 folds for each of 1 candidates, totalling 5 fits\n",
      "Fitting 5 folds for each of 1 candidates, totalling 5 fits\n",
      "Fitting 5 folds for each of 1 candidates, totalling 5 fits\n",
      "Fitting 5 folds for each of 1 candidates, totalling 5 fits\n",
      "Fitting 5 folds for each of 1 candidates, totalling 5 fits\n",
      "Fitting 5 folds for each of 1 candidates, totalling 5 fits\n",
      "Fitting 5 folds for each of 1 candidates, totalling 5 fits\n",
      "Fitting 5 folds for each of 1 candidates, totalling 5 fits\n",
      "Fitting 5 folds for each of 1 candidates, totalling 5 fits\n",
      "Fitting 5 folds for each of 1 candidates, totalling 5 fits\n",
      "Fitting 5 folds for each of 1 candidates, totalling 5 fits\n",
      "Fitting 5 folds for each of 1 candidates, totalling 5 fits\n",
      "Fitting 5 folds for each of 1 candidates, totalling 5 fits\n",
      "Fitting 5 folds for each of 1 candidates, totalling 5 fits\n",
      "Fitting 5 folds for each of 1 candidates, totalling 5 fits\n",
      "Fitting 5 folds for each of 1 candidates, totalling 5 fits\n",
      "Fitting 5 folds for each of 1 candidates, totalling 5 fits\n",
      "Fitting 5 folds for each of 1 candidates, totalling 5 fits\n",
      "Fitting 5 folds for each of 1 candidates, totalling 5 fits\n",
      "Fitting 5 folds for each of 1 candidates, totalling 5 fits\n",
      "Fitting 5 folds for each of 1 candidates, totalling 5 fits\n",
      "[LightGBM] [Warning] boosting is set=gbdt, boosting_type=gbdt will be ignored. Current value: boosting=gbdt\n",
      "[LightGBM] [Warning] feature_fraction is set=0.796383244695137, colsample_bytree=1.0 will be ignored. Current value: feature_fraction=0.796383244695137\n",
      "[LightGBM] [Warning] bagging_fraction is set=0.9624851474245342, subsample=1.0 will be ignored. Current value: bagging_fraction=0.9624851474245342\n",
      "[LightGBM] [Warning] bagging_freq is set=5, subsample_freq=0 will be ignored. Current value: bagging_freq=5\n",
      "[LightGBM] [Warning] boosting is set=gbdt, boosting_type=gbdt will be ignored. Current value: boosting=gbdt\n",
      "[LightGBM] [Warning] feature_fraction is set=0.796383244695137, colsample_bytree=1.0 will be ignored. Current value: feature_fraction=0.796383244695137\n",
      "[LightGBM] [Warning] bagging_fraction is set=0.9624851474245342, subsample=1.0 will be ignored. Current value: bagging_fraction=0.9624851474245342\n",
      "[LightGBM] [Warning] bagging_freq is set=5, subsample_freq=0 will be ignored. Current value: bagging_freq=5\n"
     ]
    },
    {
     "data": {
      "text/plain": [
       "2.0572142680486043"
      ]
     },
     "execution_count": 55,
     "metadata": {},
     "output_type": "execute_result"
    }
   ],
   "source": [
    "import os, time\n",
    "start = time.time()\n",
    "bayes_tune.fit(X_train,y_train)\n",
    "end = time.time()\n",
    "(end - start)/60"
   ]
  },
  {
   "cell_type": "code",
   "execution_count": 56,
   "id": "be4c4788",
   "metadata": {
    "execution": {
     "iopub.execute_input": "2022-11-18T18:47:31.434030Z",
     "iopub.status.busy": "2022-11-18T18:47:31.433572Z",
     "iopub.status.idle": "2022-11-18T18:47:31.442721Z",
     "shell.execute_reply": "2022-11-18T18:47:31.441467Z"
    },
    "papermill": {
     "duration": 0.045333,
     "end_time": "2022-11-18T18:47:31.445137",
     "exception": false,
     "start_time": "2022-11-18T18:47:31.399804",
     "status": "completed"
    },
    "tags": []
   },
   "outputs": [
    {
     "data": {
      "text/plain": [
       "OrderedDict([('bagging_fraction', 0.9624851474245342),\n",
       "             ('bagging_freq', 5),\n",
       "             ('boosting', 'gbdt'),\n",
       "             ('feature_fraction', 0.796383244695137),\n",
       "             ('learning_rate', 0.19170805877263195),\n",
       "             ('max_bin', 510),\n",
       "             ('max_depth', 35),\n",
       "             ('min_child_samples', 36),\n",
       "             ('min_child_weight', 10.0),\n",
       "             ('n_estimators', 72),\n",
       "             ('num_leaves', 39),\n",
       "             ('reg_alpha', 0.01561117116178167),\n",
       "             ('reg_lambda', 0.0008305243156384747),\n",
       "             ('scale_pos_weight', 3.2217030175273957),\n",
       "             ('subsample_for_bin', 495436)])"
      ]
     },
     "execution_count": 56,
     "metadata": {},
     "output_type": "execute_result"
    }
   ],
   "source": [
    "#Best parameter\n",
    "bayes_tune.best_params_"
   ]
  },
  {
   "cell_type": "code",
   "execution_count": 57,
   "id": "c6fb03f9",
   "metadata": {
    "execution": {
     "iopub.execute_input": "2022-11-18T18:47:31.510501Z",
     "iopub.status.busy": "2022-11-18T18:47:31.510075Z",
     "iopub.status.idle": "2022-11-18T18:47:31.518443Z",
     "shell.execute_reply": "2022-11-18T18:47:31.516828Z"
    },
    "papermill": {
     "duration": 0.044503,
     "end_time": "2022-11-18T18:47:31.521283",
     "exception": false,
     "start_time": "2022-11-18T18:47:31.476780",
     "status": "completed"
    },
    "tags": []
   },
   "outputs": [
    {
     "data": {
      "text/plain": [
       "0.9453834504409308"
      ]
     },
     "execution_count": 57,
     "metadata": {},
     "output_type": "execute_result"
    }
   ],
   "source": [
    "#Best Score\n",
    "bayes_tune.best_score_"
   ]
  },
  {
   "cell_type": "code",
   "execution_count": 58,
   "id": "4bfdd802",
   "metadata": {
    "execution": {
     "iopub.execute_input": "2022-11-18T18:47:31.587797Z",
     "iopub.status.busy": "2022-11-18T18:47:31.586995Z",
     "iopub.status.idle": "2022-11-18T18:47:31.608480Z",
     "shell.execute_reply": "2022-11-18T18:47:31.607236Z"
    },
    "papermill": {
     "duration": 0.057725,
     "end_time": "2022-11-18T18:47:31.611404",
     "exception": false,
     "start_time": "2022-11-18T18:47:31.553679",
     "status": "completed"
    },
    "tags": []
   },
   "outputs": [
    {
     "data": {
      "text/plain": [
       "14247191414.420145"
      ]
     },
     "execution_count": 58,
     "metadata": {},
     "output_type": "execute_result"
    }
   ],
   "source": [
    "#predicting the model and MSE\n",
    "pred = bayes_tune.predict(X_test)\n",
    "mean_squared_error(y_test,pred)"
   ]
  },
  {
   "cell_type": "code",
   "execution_count": 59,
   "id": "6ed38014",
   "metadata": {
    "execution": {
     "iopub.execute_input": "2022-11-18T18:47:31.678339Z",
     "iopub.status.busy": "2022-11-18T18:47:31.677894Z",
     "iopub.status.idle": "2022-11-18T18:47:31.700980Z",
     "shell.execute_reply": "2022-11-18T18:47:31.699986Z"
    },
    "papermill": {
     "duration": 0.060204,
     "end_time": "2022-11-18T18:47:31.703543",
     "exception": false,
     "start_time": "2022-11-18T18:47:31.643339",
     "status": "completed"
    },
    "tags": []
   },
   "outputs": [
    {
     "data": {
      "text/plain": [
       "array([537,  32, 595, 597, 613, 362])"
      ]
     },
     "execution_count": 59,
     "metadata": {},
     "output_type": "execute_result"
    }
   ],
   "source": [
    "bst_bayes = bayes_tune.best_estimator_\n",
    "pred = bst_bayes.predict(X_test)\n",
    "bst_bayes.feature_importances_\n"
   ]
  },
  {
   "cell_type": "code",
   "execution_count": 62,
   "id": "0be9faf1",
   "metadata": {
    "execution": {
     "iopub.execute_input": "2022-11-18T18:47:31.772775Z",
     "iopub.status.busy": "2022-11-18T18:47:31.772158Z",
     "iopub.status.idle": "2022-11-18T18:47:34.682218Z",
     "shell.execute_reply": "2022-11-18T18:47:34.681023Z"
    },
    "papermill": {
     "duration": 2.95628,
     "end_time": "2022-11-18T18:47:34.693546",
     "exception": false,
     "start_time": "2022-11-18T18:47:31.737266",
     "status": "completed"
    },
    "tags": []
   },
   "outputs": [
    {
     "ename": "ExecutableNotFound",
     "evalue": "failed to execute WindowsPath('dot'), make sure the Graphviz executables are on your systems' PATH",
     "output_type": "error",
     "traceback": [
      "\u001b[1;31m---------------------------------------------------------------------------\u001b[0m",
      "\u001b[1;31mFileNotFoundError\u001b[0m                         Traceback (most recent call last)",
      "File \u001b[1;32m~\\anaconda3\\lib\\site-packages\\graphviz\\backend\\execute.py:79\u001b[0m, in \u001b[0;36mrun_check\u001b[1;34m(cmd, input_lines, encoding, quiet, **kwargs)\u001b[0m\n\u001b[0;32m     78\u001b[0m         kwargs[\u001b[38;5;124m'\u001b[39m\u001b[38;5;124mstdout\u001b[39m\u001b[38;5;124m'\u001b[39m] \u001b[38;5;241m=\u001b[39m kwargs[\u001b[38;5;124m'\u001b[39m\u001b[38;5;124mstderr\u001b[39m\u001b[38;5;124m'\u001b[39m] \u001b[38;5;241m=\u001b[39m subprocess\u001b[38;5;241m.\u001b[39mPIPE\n\u001b[1;32m---> 79\u001b[0m     proc \u001b[38;5;241m=\u001b[39m \u001b[43m_run_input_lines\u001b[49m\u001b[43m(\u001b[49m\u001b[43mcmd\u001b[49m\u001b[43m,\u001b[49m\u001b[43m \u001b[49m\u001b[43minput_lines\u001b[49m\u001b[43m,\u001b[49m\u001b[43m \u001b[49m\u001b[43mkwargs\u001b[49m\u001b[38;5;241;43m=\u001b[39;49m\u001b[43mkwargs\u001b[49m\u001b[43m)\u001b[49m\n\u001b[0;32m     80\u001b[0m \u001b[38;5;28;01melse\u001b[39;00m:\n",
      "File \u001b[1;32m~\\anaconda3\\lib\\site-packages\\graphviz\\backend\\execute.py:99\u001b[0m, in \u001b[0;36m_run_input_lines\u001b[1;34m(cmd, input_lines, kwargs)\u001b[0m\n\u001b[0;32m     98\u001b[0m \u001b[38;5;28;01mdef\u001b[39;00m \u001b[38;5;21m_run_input_lines\u001b[39m(cmd, input_lines, \u001b[38;5;241m*\u001b[39m, kwargs):\n\u001b[1;32m---> 99\u001b[0m     popen \u001b[38;5;241m=\u001b[39m subprocess\u001b[38;5;241m.\u001b[39mPopen(cmd, stdin\u001b[38;5;241m=\u001b[39msubprocess\u001b[38;5;241m.\u001b[39mPIPE, \u001b[38;5;241m*\u001b[39m\u001b[38;5;241m*\u001b[39mkwargs)\n\u001b[0;32m    101\u001b[0m     stdin_write \u001b[38;5;241m=\u001b[39m popen\u001b[38;5;241m.\u001b[39mstdin\u001b[38;5;241m.\u001b[39mwrite\n",
      "File \u001b[1;32m~\\anaconda3\\lib\\subprocess.py:951\u001b[0m, in \u001b[0;36mPopen.__init__\u001b[1;34m(self, args, bufsize, executable, stdin, stdout, stderr, preexec_fn, close_fds, shell, cwd, env, universal_newlines, startupinfo, creationflags, restore_signals, start_new_session, pass_fds, user, group, extra_groups, encoding, errors, text, umask)\u001b[0m\n\u001b[0;32m    948\u001b[0m             \u001b[38;5;28mself\u001b[39m\u001b[38;5;241m.\u001b[39mstderr \u001b[38;5;241m=\u001b[39m io\u001b[38;5;241m.\u001b[39mTextIOWrapper(\u001b[38;5;28mself\u001b[39m\u001b[38;5;241m.\u001b[39mstderr,\n\u001b[0;32m    949\u001b[0m                     encoding\u001b[38;5;241m=\u001b[39mencoding, errors\u001b[38;5;241m=\u001b[39merrors)\n\u001b[1;32m--> 951\u001b[0m     \u001b[38;5;28;43mself\u001b[39;49m\u001b[38;5;241;43m.\u001b[39;49m\u001b[43m_execute_child\u001b[49m\u001b[43m(\u001b[49m\u001b[43margs\u001b[49m\u001b[43m,\u001b[49m\u001b[43m \u001b[49m\u001b[43mexecutable\u001b[49m\u001b[43m,\u001b[49m\u001b[43m \u001b[49m\u001b[43mpreexec_fn\u001b[49m\u001b[43m,\u001b[49m\u001b[43m \u001b[49m\u001b[43mclose_fds\u001b[49m\u001b[43m,\u001b[49m\n\u001b[0;32m    952\u001b[0m \u001b[43m                        \u001b[49m\u001b[43mpass_fds\u001b[49m\u001b[43m,\u001b[49m\u001b[43m \u001b[49m\u001b[43mcwd\u001b[49m\u001b[43m,\u001b[49m\u001b[43m \u001b[49m\u001b[43menv\u001b[49m\u001b[43m,\u001b[49m\n\u001b[0;32m    953\u001b[0m \u001b[43m                        \u001b[49m\u001b[43mstartupinfo\u001b[49m\u001b[43m,\u001b[49m\u001b[43m \u001b[49m\u001b[43mcreationflags\u001b[49m\u001b[43m,\u001b[49m\u001b[43m \u001b[49m\u001b[43mshell\u001b[49m\u001b[43m,\u001b[49m\n\u001b[0;32m    954\u001b[0m \u001b[43m                        \u001b[49m\u001b[43mp2cread\u001b[49m\u001b[43m,\u001b[49m\u001b[43m \u001b[49m\u001b[43mp2cwrite\u001b[49m\u001b[43m,\u001b[49m\n\u001b[0;32m    955\u001b[0m \u001b[43m                        \u001b[49m\u001b[43mc2pread\u001b[49m\u001b[43m,\u001b[49m\u001b[43m \u001b[49m\u001b[43mc2pwrite\u001b[49m\u001b[43m,\u001b[49m\n\u001b[0;32m    956\u001b[0m \u001b[43m                        \u001b[49m\u001b[43merrread\u001b[49m\u001b[43m,\u001b[49m\u001b[43m \u001b[49m\u001b[43merrwrite\u001b[49m\u001b[43m,\u001b[49m\n\u001b[0;32m    957\u001b[0m \u001b[43m                        \u001b[49m\u001b[43mrestore_signals\u001b[49m\u001b[43m,\u001b[49m\n\u001b[0;32m    958\u001b[0m \u001b[43m                        \u001b[49m\u001b[43mgid\u001b[49m\u001b[43m,\u001b[49m\u001b[43m \u001b[49m\u001b[43mgids\u001b[49m\u001b[43m,\u001b[49m\u001b[43m \u001b[49m\u001b[43muid\u001b[49m\u001b[43m,\u001b[49m\u001b[43m \u001b[49m\u001b[43mumask\u001b[49m\u001b[43m,\u001b[49m\n\u001b[0;32m    959\u001b[0m \u001b[43m                        \u001b[49m\u001b[43mstart_new_session\u001b[49m\u001b[43m)\u001b[49m\n\u001b[0;32m    960\u001b[0m \u001b[38;5;28;01mexcept\u001b[39;00m:\n\u001b[0;32m    961\u001b[0m     \u001b[38;5;66;03m# Cleanup if the child failed starting.\u001b[39;00m\n",
      "File \u001b[1;32m~\\anaconda3\\lib\\subprocess.py:1420\u001b[0m, in \u001b[0;36mPopen._execute_child\u001b[1;34m(self, args, executable, preexec_fn, close_fds, pass_fds, cwd, env, startupinfo, creationflags, shell, p2cread, p2cwrite, c2pread, c2pwrite, errread, errwrite, unused_restore_signals, unused_gid, unused_gids, unused_uid, unused_umask, unused_start_new_session)\u001b[0m\n\u001b[0;32m   1419\u001b[0m \u001b[38;5;28;01mtry\u001b[39;00m:\n\u001b[1;32m-> 1420\u001b[0m     hp, ht, pid, tid \u001b[38;5;241m=\u001b[39m \u001b[43m_winapi\u001b[49m\u001b[38;5;241;43m.\u001b[39;49m\u001b[43mCreateProcess\u001b[49m\u001b[43m(\u001b[49m\u001b[43mexecutable\u001b[49m\u001b[43m,\u001b[49m\u001b[43m \u001b[49m\u001b[43margs\u001b[49m\u001b[43m,\u001b[49m\n\u001b[0;32m   1421\u001b[0m \u001b[43m                             \u001b[49m\u001b[38;5;66;43;03m# no special security\u001b[39;49;00m\n\u001b[0;32m   1422\u001b[0m \u001b[43m                             \u001b[49m\u001b[38;5;28;43;01mNone\u001b[39;49;00m\u001b[43m,\u001b[49m\u001b[43m \u001b[49m\u001b[38;5;28;43;01mNone\u001b[39;49;00m\u001b[43m,\u001b[49m\n\u001b[0;32m   1423\u001b[0m \u001b[43m                             \u001b[49m\u001b[38;5;28;43mint\u001b[39;49m\u001b[43m(\u001b[49m\u001b[38;5;129;43;01mnot\u001b[39;49;00m\u001b[43m \u001b[49m\u001b[43mclose_fds\u001b[49m\u001b[43m)\u001b[49m\u001b[43m,\u001b[49m\n\u001b[0;32m   1424\u001b[0m \u001b[43m                             \u001b[49m\u001b[43mcreationflags\u001b[49m\u001b[43m,\u001b[49m\n\u001b[0;32m   1425\u001b[0m \u001b[43m                             \u001b[49m\u001b[43menv\u001b[49m\u001b[43m,\u001b[49m\n\u001b[0;32m   1426\u001b[0m \u001b[43m                             \u001b[49m\u001b[43mcwd\u001b[49m\u001b[43m,\u001b[49m\n\u001b[0;32m   1427\u001b[0m \u001b[43m                             \u001b[49m\u001b[43mstartupinfo\u001b[49m\u001b[43m)\u001b[49m\n\u001b[0;32m   1428\u001b[0m \u001b[38;5;28;01mfinally\u001b[39;00m:\n\u001b[0;32m   1429\u001b[0m     \u001b[38;5;66;03m# Child is launched. Close the parent's copy of those pipe\u001b[39;00m\n\u001b[0;32m   1430\u001b[0m     \u001b[38;5;66;03m# handles that only the child should have open.  You need\u001b[39;00m\n\u001b[1;32m   (...)\u001b[0m\n\u001b[0;32m   1433\u001b[0m     \u001b[38;5;66;03m# pipe will not close when the child process exits and the\u001b[39;00m\n\u001b[0;32m   1434\u001b[0m     \u001b[38;5;66;03m# ReadFile will hang.\u001b[39;00m\n",
      "\u001b[1;31mFileNotFoundError\u001b[0m: [WinError 2] The system cannot find the file specified",
      "\nThe above exception was the direct cause of the following exception:\n",
      "\u001b[1;31mExecutableNotFound\u001b[0m                        Traceback (most recent call last)",
      "Input \u001b[1;32mIn [62]\u001b[0m, in \u001b[0;36m<cell line: 2>\u001b[1;34m()\u001b[0m\n\u001b[0;32m      1\u001b[0m \u001b[38;5;66;03m#plotting the Tree\u001b[39;00m\n\u001b[1;32m----> 2\u001b[0m ax\u001b[38;5;241m=\u001b[39m \u001b[43mlgb\u001b[49m\u001b[38;5;241;43m.\u001b[39;49m\u001b[43mplot_tree\u001b[49m\u001b[43m(\u001b[49m\n\u001b[0;32m      3\u001b[0m \u001b[43m                  \u001b[49m\u001b[43mbst_bayes\u001b[49m\u001b[43m,\u001b[49m\n\u001b[0;32m      4\u001b[0m \u001b[43m                  \u001b[49m\u001b[43mtree_index\u001b[49m\u001b[38;5;241;43m=\u001b[39;49m\u001b[38;5;241;43m7\u001b[39;49m\u001b[43m,\u001b[49m\n\u001b[0;32m      5\u001b[0m \u001b[43m                  \u001b[49m\u001b[43mfigsize\u001b[49m\u001b[38;5;241;43m=\u001b[39;49m\u001b[43m(\u001b[49m\u001b[38;5;241;43m40\u001b[39;49m\u001b[43m,\u001b[49m\u001b[43m \u001b[49m\u001b[38;5;241;43m20\u001b[39;49m\u001b[43m)\u001b[49m\u001b[43m,\u001b[49m\n\u001b[0;32m      6\u001b[0m \u001b[43m                  \u001b[49m\u001b[43mshow_info\u001b[49m\u001b[38;5;241;43m=\u001b[39;49m\u001b[43m[\u001b[49m\u001b[38;5;124;43m'\u001b[39;49m\u001b[38;5;124;43msplit_gain\u001b[39;49m\u001b[38;5;124;43m'\u001b[39;49m\u001b[43m]\u001b[49m\n\u001b[0;32m      7\u001b[0m \u001b[43m                  \u001b[49m\u001b[43m)\u001b[49m\n\u001b[0;32m      9\u001b[0m plt\u001b[38;5;241m.\u001b[39mshow()\n",
      "File \u001b[1;32m~\\anaconda3\\lib\\site-packages\\lightgbm\\plotting.py:689\u001b[0m, in \u001b[0;36mplot_tree\u001b[1;34m(booster, ax, tree_index, figsize, dpi, show_info, precision, orientation, **kwargs)\u001b[0m\n\u001b[0;32m    684\u001b[0m graph \u001b[38;5;241m=\u001b[39m create_tree_digraph(booster\u001b[38;5;241m=\u001b[39mbooster, tree_index\u001b[38;5;241m=\u001b[39mtree_index,\n\u001b[0;32m    685\u001b[0m                             show_info\u001b[38;5;241m=\u001b[39mshow_info, precision\u001b[38;5;241m=\u001b[39mprecision,\n\u001b[0;32m    686\u001b[0m                             orientation\u001b[38;5;241m=\u001b[39morientation, \u001b[38;5;241m*\u001b[39m\u001b[38;5;241m*\u001b[39mkwargs)\n\u001b[0;32m    688\u001b[0m s \u001b[38;5;241m=\u001b[39m BytesIO()\n\u001b[1;32m--> 689\u001b[0m s\u001b[38;5;241m.\u001b[39mwrite(\u001b[43mgraph\u001b[49m\u001b[38;5;241;43m.\u001b[39;49m\u001b[43mpipe\u001b[49m\u001b[43m(\u001b[49m\u001b[38;5;28;43mformat\u001b[39;49m\u001b[38;5;241;43m=\u001b[39;49m\u001b[38;5;124;43m'\u001b[39;49m\u001b[38;5;124;43mpng\u001b[39;49m\u001b[38;5;124;43m'\u001b[39;49m\u001b[43m)\u001b[49m)\n\u001b[0;32m    690\u001b[0m s\u001b[38;5;241m.\u001b[39mseek(\u001b[38;5;241m0\u001b[39m)\n\u001b[0;32m    691\u001b[0m img \u001b[38;5;241m=\u001b[39m image\u001b[38;5;241m.\u001b[39mimread(s)\n",
      "File \u001b[1;32m~\\anaconda3\\lib\\site-packages\\graphviz\\piping.py:104\u001b[0m, in \u001b[0;36mPipe.pipe\u001b[1;34m(self, format, renderer, formatter, neato_no_op, quiet, engine, encoding)\u001b[0m\n\u001b[0;32m     55\u001b[0m \u001b[38;5;28;01mdef\u001b[39;00m \u001b[38;5;21mpipe\u001b[39m(\u001b[38;5;28mself\u001b[39m,\n\u001b[0;32m     56\u001b[0m          \u001b[38;5;28mformat\u001b[39m: typing\u001b[38;5;241m.\u001b[39mOptional[\u001b[38;5;28mstr\u001b[39m] \u001b[38;5;241m=\u001b[39m \u001b[38;5;28;01mNone\u001b[39;00m,\n\u001b[0;32m     57\u001b[0m          renderer: typing\u001b[38;5;241m.\u001b[39mOptional[\u001b[38;5;28mstr\u001b[39m] \u001b[38;5;241m=\u001b[39m \u001b[38;5;28;01mNone\u001b[39;00m,\n\u001b[1;32m   (...)\u001b[0m\n\u001b[0;32m     61\u001b[0m          engine: typing\u001b[38;5;241m.\u001b[39mOptional[\u001b[38;5;28mstr\u001b[39m] \u001b[38;5;241m=\u001b[39m \u001b[38;5;28;01mNone\u001b[39;00m,\n\u001b[0;32m     62\u001b[0m          encoding: typing\u001b[38;5;241m.\u001b[39mOptional[\u001b[38;5;28mstr\u001b[39m] \u001b[38;5;241m=\u001b[39m \u001b[38;5;28;01mNone\u001b[39;00m) \u001b[38;5;241m-\u001b[39m\u001b[38;5;241m>\u001b[39m typing\u001b[38;5;241m.\u001b[39mUnion[\u001b[38;5;28mbytes\u001b[39m, \u001b[38;5;28mstr\u001b[39m]:\n\u001b[0;32m     63\u001b[0m     \u001b[38;5;124;03m\"\"\"Return the source piped through the Graphviz layout command.\u001b[39;00m\n\u001b[0;32m     64\u001b[0m \n\u001b[0;32m     65\u001b[0m \u001b[38;5;124;03m    Args:\u001b[39;00m\n\u001b[1;32m   (...)\u001b[0m\n\u001b[0;32m    102\u001b[0m \u001b[38;5;124;03m        '<?xml version='\u001b[39;00m\n\u001b[0;32m    103\u001b[0m \u001b[38;5;124;03m    \"\"\"\u001b[39;00m\n\u001b[1;32m--> 104\u001b[0m     \u001b[38;5;28;01mreturn\u001b[39;00m \u001b[38;5;28;43mself\u001b[39;49m\u001b[38;5;241;43m.\u001b[39;49m\u001b[43m_pipe_legacy\u001b[49m\u001b[43m(\u001b[49m\u001b[38;5;28;43mformat\u001b[39;49m\u001b[43m,\u001b[49m\n\u001b[0;32m    105\u001b[0m \u001b[43m                             \u001b[49m\u001b[43mrenderer\u001b[49m\u001b[38;5;241;43m=\u001b[39;49m\u001b[43mrenderer\u001b[49m\u001b[43m,\u001b[49m\n\u001b[0;32m    106\u001b[0m \u001b[43m                             \u001b[49m\u001b[43mformatter\u001b[49m\u001b[38;5;241;43m=\u001b[39;49m\u001b[43mformatter\u001b[49m\u001b[43m,\u001b[49m\n\u001b[0;32m    107\u001b[0m \u001b[43m                             \u001b[49m\u001b[43mneato_no_op\u001b[49m\u001b[38;5;241;43m=\u001b[39;49m\u001b[43mneato_no_op\u001b[49m\u001b[43m,\u001b[49m\n\u001b[0;32m    108\u001b[0m \u001b[43m                             \u001b[49m\u001b[43mquiet\u001b[49m\u001b[38;5;241;43m=\u001b[39;49m\u001b[43mquiet\u001b[49m\u001b[43m,\u001b[49m\n\u001b[0;32m    109\u001b[0m \u001b[43m                             \u001b[49m\u001b[43mengine\u001b[49m\u001b[38;5;241;43m=\u001b[39;49m\u001b[43mengine\u001b[49m\u001b[43m,\u001b[49m\n\u001b[0;32m    110\u001b[0m \u001b[43m                             \u001b[49m\u001b[43mencoding\u001b[49m\u001b[38;5;241;43m=\u001b[39;49m\u001b[43mencoding\u001b[49m\u001b[43m)\u001b[49m\n",
      "File \u001b[1;32m~\\anaconda3\\lib\\site-packages\\graphviz\\_tools.py:171\u001b[0m, in \u001b[0;36mdeprecate_positional_args.<locals>.decorator.<locals>.wrapper\u001b[1;34m(*args, **kwargs)\u001b[0m\n\u001b[0;32m    162\u001b[0m     wanted \u001b[38;5;241m=\u001b[39m \u001b[38;5;124m'\u001b[39m\u001b[38;5;124m, \u001b[39m\u001b[38;5;124m'\u001b[39m\u001b[38;5;241m.\u001b[39mjoin(\u001b[38;5;124mf\u001b[39m\u001b[38;5;124m'\u001b[39m\u001b[38;5;132;01m{\u001b[39;00mname\u001b[38;5;132;01m}\u001b[39;00m\u001b[38;5;124m=\u001b[39m\u001b[38;5;132;01m{\u001b[39;00mvalue\u001b[38;5;132;01m!r}\u001b[39;00m\u001b[38;5;124m'\u001b[39m\n\u001b[0;32m    163\u001b[0m                        \u001b[38;5;28;01mfor\u001b[39;00m name, value \u001b[38;5;129;01min\u001b[39;00m deprecated\u001b[38;5;241m.\u001b[39mitems())\n\u001b[0;32m    164\u001b[0m     warnings\u001b[38;5;241m.\u001b[39mwarn(\u001b[38;5;124mf\u001b[39m\u001b[38;5;124m'\u001b[39m\u001b[38;5;124mThe signature of \u001b[39m\u001b[38;5;132;01m{\u001b[39;00mfunc\u001b[38;5;241m.\u001b[39m\u001b[38;5;18m__name__\u001b[39m\u001b[38;5;132;01m}\u001b[39;00m\u001b[38;5;124m will be reduced\u001b[39m\u001b[38;5;124m'\u001b[39m\n\u001b[0;32m    165\u001b[0m                   \u001b[38;5;124mf\u001b[39m\u001b[38;5;124m'\u001b[39m\u001b[38;5;124m to \u001b[39m\u001b[38;5;132;01m{\u001b[39;00msupported_number\u001b[38;5;132;01m}\u001b[39;00m\u001b[38;5;124m positional args\u001b[39m\u001b[38;5;124m'\u001b[39m\n\u001b[0;32m    166\u001b[0m                   \u001b[38;5;124mf\u001b[39m\u001b[38;5;124m'\u001b[39m\u001b[38;5;124m \u001b[39m\u001b[38;5;132;01m{\u001b[39;00m\u001b[38;5;28mlist\u001b[39m(supported)\u001b[38;5;132;01m}\u001b[39;00m\u001b[38;5;124m: pass \u001b[39m\u001b[38;5;132;01m{\u001b[39;00mwanted\u001b[38;5;132;01m}\u001b[39;00m\u001b[38;5;124m'\u001b[39m\n\u001b[0;32m    167\u001b[0m                   \u001b[38;5;124m'\u001b[39m\u001b[38;5;124m as keyword arg(s)\u001b[39m\u001b[38;5;124m'\u001b[39m,\n\u001b[0;32m    168\u001b[0m                   stacklevel\u001b[38;5;241m=\u001b[39mstacklevel,\n\u001b[0;32m    169\u001b[0m                   category\u001b[38;5;241m=\u001b[39mcategory)\n\u001b[1;32m--> 171\u001b[0m \u001b[38;5;28;01mreturn\u001b[39;00m func(\u001b[38;5;241m*\u001b[39margs, \u001b[38;5;241m*\u001b[39m\u001b[38;5;241m*\u001b[39mkwargs)\n",
      "File \u001b[1;32m~\\anaconda3\\lib\\site-packages\\graphviz\\piping.py:121\u001b[0m, in \u001b[0;36mPipe._pipe_legacy\u001b[1;34m(self, format, renderer, formatter, neato_no_op, quiet, engine, encoding)\u001b[0m\n\u001b[0;32m    112\u001b[0m \u001b[38;5;129m@_tools\u001b[39m\u001b[38;5;241m.\u001b[39mdeprecate_positional_args(supported_number\u001b[38;5;241m=\u001b[39m\u001b[38;5;241m2\u001b[39m)\n\u001b[0;32m    113\u001b[0m \u001b[38;5;28;01mdef\u001b[39;00m \u001b[38;5;21m_pipe_legacy\u001b[39m(\u001b[38;5;28mself\u001b[39m,\n\u001b[0;32m    114\u001b[0m                  \u001b[38;5;28mformat\u001b[39m: typing\u001b[38;5;241m.\u001b[39mOptional[\u001b[38;5;28mstr\u001b[39m] \u001b[38;5;241m=\u001b[39m \u001b[38;5;28;01mNone\u001b[39;00m,\n\u001b[1;32m   (...)\u001b[0m\n\u001b[0;32m    119\u001b[0m                  engine: typing\u001b[38;5;241m.\u001b[39mOptional[\u001b[38;5;28mstr\u001b[39m] \u001b[38;5;241m=\u001b[39m \u001b[38;5;28;01mNone\u001b[39;00m,\n\u001b[0;32m    120\u001b[0m                  encoding: typing\u001b[38;5;241m.\u001b[39mOptional[\u001b[38;5;28mstr\u001b[39m] \u001b[38;5;241m=\u001b[39m \u001b[38;5;28;01mNone\u001b[39;00m) \u001b[38;5;241m-\u001b[39m\u001b[38;5;241m>\u001b[39m typing\u001b[38;5;241m.\u001b[39mUnion[\u001b[38;5;28mbytes\u001b[39m, \u001b[38;5;28mstr\u001b[39m]:\n\u001b[1;32m--> 121\u001b[0m     \u001b[38;5;28;01mreturn\u001b[39;00m \u001b[38;5;28;43mself\u001b[39;49m\u001b[38;5;241;43m.\u001b[39;49m\u001b[43m_pipe_future\u001b[49m\u001b[43m(\u001b[49m\u001b[38;5;28;43mformat\u001b[39;49m\u001b[43m,\u001b[49m\n\u001b[0;32m    122\u001b[0m \u001b[43m                             \u001b[49m\u001b[43mrenderer\u001b[49m\u001b[38;5;241;43m=\u001b[39;49m\u001b[43mrenderer\u001b[49m\u001b[43m,\u001b[49m\n\u001b[0;32m    123\u001b[0m \u001b[43m                             \u001b[49m\u001b[43mformatter\u001b[49m\u001b[38;5;241;43m=\u001b[39;49m\u001b[43mformatter\u001b[49m\u001b[43m,\u001b[49m\n\u001b[0;32m    124\u001b[0m \u001b[43m                             \u001b[49m\u001b[43mneato_no_op\u001b[49m\u001b[38;5;241;43m=\u001b[39;49m\u001b[43mneato_no_op\u001b[49m\u001b[43m,\u001b[49m\n\u001b[0;32m    125\u001b[0m \u001b[43m                             \u001b[49m\u001b[43mquiet\u001b[49m\u001b[38;5;241;43m=\u001b[39;49m\u001b[43mquiet\u001b[49m\u001b[43m,\u001b[49m\n\u001b[0;32m    126\u001b[0m \u001b[43m                             \u001b[49m\u001b[43mengine\u001b[49m\u001b[38;5;241;43m=\u001b[39;49m\u001b[43mengine\u001b[49m\u001b[43m,\u001b[49m\n\u001b[0;32m    127\u001b[0m \u001b[43m                             \u001b[49m\u001b[43mencoding\u001b[49m\u001b[38;5;241;43m=\u001b[39;49m\u001b[43mencoding\u001b[49m\u001b[43m)\u001b[49m\n",
      "File \u001b[1;32m~\\anaconda3\\lib\\site-packages\\graphviz\\piping.py:161\u001b[0m, in \u001b[0;36mPipe._pipe_future\u001b[1;34m(self, format, renderer, formatter, neato_no_op, quiet, engine, encoding)\u001b[0m\n\u001b[0;32m    159\u001b[0m     \u001b[38;5;28;01melse\u001b[39;00m:\n\u001b[0;32m    160\u001b[0m         \u001b[38;5;28;01mreturn\u001b[39;00m raw\u001b[38;5;241m.\u001b[39mdecode(encoding)\n\u001b[1;32m--> 161\u001b[0m \u001b[38;5;28;01mreturn\u001b[39;00m \u001b[38;5;28mself\u001b[39m\u001b[38;5;241m.\u001b[39m_pipe_lines(\u001b[38;5;241m*\u001b[39margs, input_encoding\u001b[38;5;241m=\u001b[39m\u001b[38;5;28mself\u001b[39m\u001b[38;5;241m.\u001b[39mencoding, \u001b[38;5;241m*\u001b[39m\u001b[38;5;241m*\u001b[39mkwargs)\n",
      "File \u001b[1;32m~\\anaconda3\\lib\\site-packages\\graphviz\\backend\\piping.py:161\u001b[0m, in \u001b[0;36mpipe_lines\u001b[1;34m(engine, format, input_lines, input_encoding, renderer, formatter, neato_no_op, quiet)\u001b[0m\n\u001b[0;32m    155\u001b[0m cmd \u001b[38;5;241m=\u001b[39m dot_command\u001b[38;5;241m.\u001b[39mcommand(engine, \u001b[38;5;28mformat\u001b[39m,\n\u001b[0;32m    156\u001b[0m                           renderer\u001b[38;5;241m=\u001b[39mrenderer,\n\u001b[0;32m    157\u001b[0m                           formatter\u001b[38;5;241m=\u001b[39mformatter,\n\u001b[0;32m    158\u001b[0m                           neato_no_op\u001b[38;5;241m=\u001b[39mneato_no_op)\n\u001b[0;32m    159\u001b[0m kwargs \u001b[38;5;241m=\u001b[39m {\u001b[38;5;124m'\u001b[39m\u001b[38;5;124minput_lines\u001b[39m\u001b[38;5;124m'\u001b[39m: (line\u001b[38;5;241m.\u001b[39mencode(input_encoding) \u001b[38;5;28;01mfor\u001b[39;00m line \u001b[38;5;129;01min\u001b[39;00m input_lines)}\n\u001b[1;32m--> 161\u001b[0m proc \u001b[38;5;241m=\u001b[39m execute\u001b[38;5;241m.\u001b[39mrun_check(cmd, capture_output\u001b[38;5;241m=\u001b[39m\u001b[38;5;28;01mTrue\u001b[39;00m, quiet\u001b[38;5;241m=\u001b[39mquiet, \u001b[38;5;241m*\u001b[39m\u001b[38;5;241m*\u001b[39mkwargs)\n\u001b[0;32m    162\u001b[0m \u001b[38;5;28;01mreturn\u001b[39;00m proc\u001b[38;5;241m.\u001b[39mstdout\n",
      "File \u001b[1;32m~\\anaconda3\\lib\\site-packages\\graphviz\\backend\\execute.py:84\u001b[0m, in \u001b[0;36mrun_check\u001b[1;34m(cmd, input_lines, encoding, quiet, **kwargs)\u001b[0m\n\u001b[0;32m     82\u001b[0m \u001b[38;5;28;01mexcept\u001b[39;00m \u001b[38;5;167;01mOSError\u001b[39;00m \u001b[38;5;28;01mas\u001b[39;00m e:\n\u001b[0;32m     83\u001b[0m     \u001b[38;5;28;01mif\u001b[39;00m e\u001b[38;5;241m.\u001b[39merrno \u001b[38;5;241m==\u001b[39m errno\u001b[38;5;241m.\u001b[39mENOENT:\n\u001b[1;32m---> 84\u001b[0m         \u001b[38;5;28;01mraise\u001b[39;00m ExecutableNotFound(cmd) \u001b[38;5;28;01mfrom\u001b[39;00m \u001b[38;5;21;01me\u001b[39;00m\n\u001b[0;32m     85\u001b[0m     \u001b[38;5;28;01mraise\u001b[39;00m\n\u001b[0;32m     87\u001b[0m \u001b[38;5;28;01mif\u001b[39;00m \u001b[38;5;129;01mnot\u001b[39;00m quiet \u001b[38;5;129;01mand\u001b[39;00m proc\u001b[38;5;241m.\u001b[39mstderr:\n",
      "\u001b[1;31mExecutableNotFound\u001b[0m: failed to execute WindowsPath('dot'), make sure the Graphviz executables are on your systems' PATH"
     ]
    },
    {
     "data": {
      "image/png": "[encoded data removed]",
      "text/plain": [
       "<Figure size 2880x1440 with 1 Axes>"
      ]
     },
     "metadata": {
      "needs_background": "light"
     },
     "output_type": "display_data"
    }
   ],
   "source": [
    "#plotting the Tree\n",
    "ax= lgb.plot_tree(\n",
    "                  bst_bayes,\n",
    "                  tree_index=7,\n",
    "                  figsize=(40, 20),\n",
    "                  show_info=['split_gain']\n",
    "                  )\n",
    "\n",
    "plt.show()"
   ]
  },
  {
   "cell_type": "code",
   "execution_count": 61,
   "id": "d5d15880",
   "metadata": {},
   "outputs": [
    {
     "name": "stdout",
     "output_type": "stream",
     "text": [
      "Requirement already satisfied: graphviz in c:\\users\\administrator\\anaconda3\\lib\\site-packages (0.20.1)\n",
      "Note: you may need to restart the kernel to use updated packages.\n"
     ]
    }
   ],
   "source": [
    "pip install graphviz"
   ]
  },
  {
   "cell_type": "code",
   "execution_count": null,
   "id": "c5953e70",
   "metadata": {},
   "outputs": [],
   "source": []
  },
  {
   "cell_type": "code",
   "execution_count": null,
   "id": "167c1c49",
   "metadata": {},
   "outputs": [],
   "source": []
  },
  {
   "cell_type": "code",
   "execution_count": null,
   "id": "a349ffa5",
   "metadata": {},
   "outputs": [],
   "source": []
  },
  {
   "cell_type": "code",
   "execution_count": null,
   "id": "90911cf5",
   "metadata": {},
   "outputs": [],
   "source": []
  }
 ],
 "metadata": {
  "kernelspec": {
   "display_name": "Python 3 (ipykernel)",
   "language": "python",
   "name": "python3"
  },
  "language_info": {
   "codemirror_mode": {
    "name": "ipython",
    "version": 3
   },
   "file_extension": ".py",
   "mimetype": "text/x-python",
   "name": "python",
   "nbconvert_exporter": "python",
   "pygments_lexer": "ipython3",
   "version": "3.9.12"
  },
  "papermill": {
   "default_parameters": {},
   "duration": 316.372302,
   "end_time": "2022-11-18T18:47:37.359472",
   "environment_variables": {},
   "exception": null,
   "input_path": "__notebook__.ipynb",
   "output_path": "__notebook__.ipynb",
   "parameters": {},
   "start_time": "2022-11-18T18:42:20.987170",
   "version": "2.3.4"
  }
 },
 "nbformat": 4,
 "nbformat_minor": 5
}
