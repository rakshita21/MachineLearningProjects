{
 "cells": [
  {
   "cell_type": "code",
   "execution_count": 30,
   "id": "0f841ce4",
   "metadata": {},
   "outputs": [],
   "source": [
    "#CURRENCY CONVERTER OF INDIAN RUPEE In Other Countries\n",
    "from tkinter import *\n",
    "root= Tk()\n",
    "root.geometry(\"600x500\")\n",
    "root.title(\"Currency Converter\")\n",
    "def con():\n",
    "    indianprice = rupeeentry.get()\n",
    "    countrychoice=variable.get() #Counrty choice is the country names\n",
    "    currency=options.get(countrychoice,\"select\")#currency is the currency of the country defined in options dictionary\n",
    "    convertcurrency=float(currency)*float(indianprice)\n",
    "    result.delete(1.0,END)\n",
    "    result.insert(INSERT,\"Price of indian rupee in\",INSERT,countrychoice,INSERT,\"is\",INSERT,convertcurrency)\n",
    "options={\"Australian Dollar\":49.10,\"Brazilian Real\":17.30,\"British Pound\": 90.92,\"Bulgarian Lev\":39.8,\"Chines Yuan\":10.29,\"Euro\":77.85,\"HongKong Dollar\":8.83,\"Indonesian Rupiah\":0.004864,\"Japanese Yen\":0.628,\"Pakistani Rupee\":0.49,\"SriLankan Rupee\":0.39,\"Swiss Franc\":69.62,\"Us Dollar\":69.32}\n",
    "\n",
    "heading=Label(root,text=\"CURRENCYCONVERTER\",font=(\"arial\",20,\"bold\"),fg=\"darkred\")\n",
    "heading.grid(row=0,column=2)\n",
    "rupee=Label(root,text=\"INDIAN RUPEES\",font=(\"arial\",15))\n",
    "rupee.grid(row=2,column=1)\n",
    "rupeeentry=Entry(root)\n",
    "rupeeentry.grid(row=2,column=2)\n",
    "choice=Label(root,text=\"CHOOSE THE COUNTRY\",font=(\"arial\",15))\n",
    "choice.grid(row=3,column=1)\n",
    "variable=StringVar()\n",
    "variable.set(\"select\")\n",
    "option=OptionMenu(root,variable,*options)\n",
    "option.grid(row=3,column=2,sticky=\"ew\")\n",
    "convertbutton=Button(root,text=\"ConvertCurrency\",fg=\"green\",font=(\"arial\",20,\"bold\"),bg=\"powderblue\",command=con)\n",
    "convertbutton.grid(row=4,column=2)\n",
    "result=Text(root,height=5,width=50)\n",
    "result.grid(row=5,column=1)\n",
    "mainloop()"
   ]
  },
  {
   "cell_type": "code",
   "execution_count": null,
   "id": "4375c469",
   "metadata": {},
   "outputs": [],
   "source": []
  },
  {
   "cell_type": "code",
   "execution_count": null,
   "id": "ae578faa",
   "metadata": {},
   "outputs": [],
   "source": []
  }
 ],
 "metadata": {
  "kernelspec": {
   "display_name": "Python 3 (ipykernel)",
   "language": "python",
   "name": "python3"
  },
  "language_info": {
   "codemirror_mode": {
    "name": "ipython",
    "version": 3
   },
   "file_extension": ".py",
   "mimetype": "text/x-python",
   "name": "python",
   "nbconvert_exporter": "python",
   "pygments_lexer": "ipython3",
   "version": "3.9.12"
  }
 },
 "nbformat": 4,
 "nbformat_minor": 5
}
